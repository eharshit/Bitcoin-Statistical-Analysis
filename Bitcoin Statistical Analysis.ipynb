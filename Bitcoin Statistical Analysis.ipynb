{
  "cells": [
    {
      "cell_type": "markdown",
      "id": "35b8e183",
      "metadata": {
        "id": "35b8e183"
      },
      "source": [
        "# Statistical Analysis of Bitcoin Dataset"
      ]
    },
    {
      "cell_type": "markdown",
      "id": "8c8b3dc6",
      "metadata": {
        "id": "8c8b3dc6"
      },
      "source": [
        "## 1. Importing Required Libraries"
      ]
    },
    {
      "cell_type": "code",
      "execution_count": 2,
      "id": "bb469829-2a96-4c96-8161-345e22b7acb3",
      "metadata": {
        "id": "bb469829-2a96-4c96-8161-345e22b7acb3"
      },
      "outputs": [],
      "source": [
        "import pandas as pd      # For data manipulation\n",
        "import numpy as np       # For numerical computations\n",
        "import matplotlib.pyplot as plt  # For visualizations\n",
        "import seaborn as sns    # For advanced visualizations\n",
        "import scipy.stats as stats  # For statistical tests"
      ]
    },
    {
      "cell_type": "markdown",
      "id": "4b1b81ad",
      "metadata": {
        "id": "4b1b81ad"
      },
      "source": [
        "## 2. Loading and Exploring the Dataset"
      ]
    },
    {
      "cell_type": "code",
      "execution_count": 3,
      "id": "0199661d-70a1-4a52-981b-0223e6361919",
      "metadata": {
        "id": "0199661d-70a1-4a52-981b-0223e6361919"
      },
      "outputs": [],
      "source": [
        "# Load the dataset\n",
        "df=pd.read_csv(r\"/content/btcusd_1-min_data.csv\")"
      ]
    },
    {
      "cell_type": "code",
      "execution_count": 4,
      "id": "44fa71a2-4925-45cd-9daa-fccf9b69a223",
      "metadata": {
        "colab": {
          "base_uri": "https://localhost:8080/",
          "height": 300
        },
        "id": "44fa71a2-4925-45cd-9daa-fccf9b69a223",
        "outputId": "33120ebc-aac5-4faa-9138-11933a20f019"
      },
      "outputs": [
        {
          "output_type": "execute_result",
          "data": {
            "text/plain": [
              "          Timestamp           Open           High            Low  \\\n",
              "count  9.833180e+05  983318.000000  983317.000000  983317.000000   \n",
              "mean   1.354912e+09      50.691467      50.719302      50.656225   \n",
              "std    1.703158e+07      61.239729      61.288515      61.173980   \n",
              "min    1.325412e+09       3.800000       3.800000       3.800000   \n",
              "25%    1.340162e+09       6.580000       6.580000       6.580000   \n",
              "50%    1.354912e+09      13.100000      13.100000      13.100000   \n",
              "75%    1.369661e+09      98.150000      98.200000      98.110000   \n",
              "max    1.384411e+09     405.970000     405.970000     405.970000   \n",
              "\n",
              "               Close         Volume  \n",
              "count  983317.000000  983317.000000  \n",
              "mean       50.687583       4.174010  \n",
              "std        61.230122      25.287492  \n",
              "min         3.800000       0.000000  \n",
              "25%         6.580000       0.000000  \n",
              "50%        13.100000       0.000000  \n",
              "75%        98.150000       0.326740  \n",
              "max       405.970000    2958.477574  "
            ],
            "text/html": [
              "\n",
              "  <div id=\"df-67416745-50c7-4e81-be79-e46316826e53\" class=\"colab-df-container\">\n",
              "    <div>\n",
              "<style scoped>\n",
              "    .dataframe tbody tr th:only-of-type {\n",
              "        vertical-align: middle;\n",
              "    }\n",
              "\n",
              "    .dataframe tbody tr th {\n",
              "        vertical-align: top;\n",
              "    }\n",
              "\n",
              "    .dataframe thead th {\n",
              "        text-align: right;\n",
              "    }\n",
              "</style>\n",
              "<table border=\"1\" class=\"dataframe\">\n",
              "  <thead>\n",
              "    <tr style=\"text-align: right;\">\n",
              "      <th></th>\n",
              "      <th>Timestamp</th>\n",
              "      <th>Open</th>\n",
              "      <th>High</th>\n",
              "      <th>Low</th>\n",
              "      <th>Close</th>\n",
              "      <th>Volume</th>\n",
              "    </tr>\n",
              "  </thead>\n",
              "  <tbody>\n",
              "    <tr>\n",
              "      <th>count</th>\n",
              "      <td>9.833180e+05</td>\n",
              "      <td>983318.000000</td>\n",
              "      <td>983317.000000</td>\n",
              "      <td>983317.000000</td>\n",
              "      <td>983317.000000</td>\n",
              "      <td>983317.000000</td>\n",
              "    </tr>\n",
              "    <tr>\n",
              "      <th>mean</th>\n",
              "      <td>1.354912e+09</td>\n",
              "      <td>50.691467</td>\n",
              "      <td>50.719302</td>\n",
              "      <td>50.656225</td>\n",
              "      <td>50.687583</td>\n",
              "      <td>4.174010</td>\n",
              "    </tr>\n",
              "    <tr>\n",
              "      <th>std</th>\n",
              "      <td>1.703158e+07</td>\n",
              "      <td>61.239729</td>\n",
              "      <td>61.288515</td>\n",
              "      <td>61.173980</td>\n",
              "      <td>61.230122</td>\n",
              "      <td>25.287492</td>\n",
              "    </tr>\n",
              "    <tr>\n",
              "      <th>min</th>\n",
              "      <td>1.325412e+09</td>\n",
              "      <td>3.800000</td>\n",
              "      <td>3.800000</td>\n",
              "      <td>3.800000</td>\n",
              "      <td>3.800000</td>\n",
              "      <td>0.000000</td>\n",
              "    </tr>\n",
              "    <tr>\n",
              "      <th>25%</th>\n",
              "      <td>1.340162e+09</td>\n",
              "      <td>6.580000</td>\n",
              "      <td>6.580000</td>\n",
              "      <td>6.580000</td>\n",
              "      <td>6.580000</td>\n",
              "      <td>0.000000</td>\n",
              "    </tr>\n",
              "    <tr>\n",
              "      <th>50%</th>\n",
              "      <td>1.354912e+09</td>\n",
              "      <td>13.100000</td>\n",
              "      <td>13.100000</td>\n",
              "      <td>13.100000</td>\n",
              "      <td>13.100000</td>\n",
              "      <td>0.000000</td>\n",
              "    </tr>\n",
              "    <tr>\n",
              "      <th>75%</th>\n",
              "      <td>1.369661e+09</td>\n",
              "      <td>98.150000</td>\n",
              "      <td>98.200000</td>\n",
              "      <td>98.110000</td>\n",
              "      <td>98.150000</td>\n",
              "      <td>0.326740</td>\n",
              "    </tr>\n",
              "    <tr>\n",
              "      <th>max</th>\n",
              "      <td>1.384411e+09</td>\n",
              "      <td>405.970000</td>\n",
              "      <td>405.970000</td>\n",
              "      <td>405.970000</td>\n",
              "      <td>405.970000</td>\n",
              "      <td>2958.477574</td>\n",
              "    </tr>\n",
              "  </tbody>\n",
              "</table>\n",
              "</div>\n",
              "    <div class=\"colab-df-buttons\">\n",
              "\n",
              "  <div class=\"colab-df-container\">\n",
              "    <button class=\"colab-df-convert\" onclick=\"convertToInteractive('df-67416745-50c7-4e81-be79-e46316826e53')\"\n",
              "            title=\"Convert this dataframe to an interactive table.\"\n",
              "            style=\"display:none;\">\n",
              "\n",
              "  <svg xmlns=\"http://www.w3.org/2000/svg\" height=\"24px\" viewBox=\"0 -960 960 960\">\n",
              "    <path d=\"M120-120v-720h720v720H120Zm60-500h600v-160H180v160Zm220 220h160v-160H400v160Zm0 220h160v-160H400v160ZM180-400h160v-160H180v160Zm440 0h160v-160H620v160ZM180-180h160v-160H180v160Zm440 0h160v-160H620v160Z\"/>\n",
              "  </svg>\n",
              "    </button>\n",
              "\n",
              "  <style>\n",
              "    .colab-df-container {\n",
              "      display:flex;\n",
              "      gap: 12px;\n",
              "    }\n",
              "\n",
              "    .colab-df-convert {\n",
              "      background-color: #E8F0FE;\n",
              "      border: none;\n",
              "      border-radius: 50%;\n",
              "      cursor: pointer;\n",
              "      display: none;\n",
              "      fill: #1967D2;\n",
              "      height: 32px;\n",
              "      padding: 0 0 0 0;\n",
              "      width: 32px;\n",
              "    }\n",
              "\n",
              "    .colab-df-convert:hover {\n",
              "      background-color: #E2EBFA;\n",
              "      box-shadow: 0px 1px 2px rgba(60, 64, 67, 0.3), 0px 1px 3px 1px rgba(60, 64, 67, 0.15);\n",
              "      fill: #174EA6;\n",
              "    }\n",
              "\n",
              "    .colab-df-buttons div {\n",
              "      margin-bottom: 4px;\n",
              "    }\n",
              "\n",
              "    [theme=dark] .colab-df-convert {\n",
              "      background-color: #3B4455;\n",
              "      fill: #D2E3FC;\n",
              "    }\n",
              "\n",
              "    [theme=dark] .colab-df-convert:hover {\n",
              "      background-color: #434B5C;\n",
              "      box-shadow: 0px 1px 3px 1px rgba(0, 0, 0, 0.15);\n",
              "      filter: drop-shadow(0px 1px 2px rgba(0, 0, 0, 0.3));\n",
              "      fill: #FFFFFF;\n",
              "    }\n",
              "  </style>\n",
              "\n",
              "    <script>\n",
              "      const buttonEl =\n",
              "        document.querySelector('#df-67416745-50c7-4e81-be79-e46316826e53 button.colab-df-convert');\n",
              "      buttonEl.style.display =\n",
              "        google.colab.kernel.accessAllowed ? 'block' : 'none';\n",
              "\n",
              "      async function convertToInteractive(key) {\n",
              "        const element = document.querySelector('#df-67416745-50c7-4e81-be79-e46316826e53');\n",
              "        const dataTable =\n",
              "          await google.colab.kernel.invokeFunction('convertToInteractive',\n",
              "                                                    [key], {});\n",
              "        if (!dataTable) return;\n",
              "\n",
              "        const docLinkHtml = 'Like what you see? Visit the ' +\n",
              "          '<a target=\"_blank\" href=https://colab.research.google.com/notebooks/data_table.ipynb>data table notebook</a>'\n",
              "          + ' to learn more about interactive tables.';\n",
              "        element.innerHTML = '';\n",
              "        dataTable['output_type'] = 'display_data';\n",
              "        await google.colab.output.renderOutput(dataTable, element);\n",
              "        const docLink = document.createElement('div');\n",
              "        docLink.innerHTML = docLinkHtml;\n",
              "        element.appendChild(docLink);\n",
              "      }\n",
              "    </script>\n",
              "  </div>\n",
              "\n",
              "\n",
              "<div id=\"df-8226f5c7-bf03-4f82-85cb-a154cf99f39e\">\n",
              "  <button class=\"colab-df-quickchart\" onclick=\"quickchart('df-8226f5c7-bf03-4f82-85cb-a154cf99f39e')\"\n",
              "            title=\"Suggest charts\"\n",
              "            style=\"display:none;\">\n",
              "\n",
              "<svg xmlns=\"http://www.w3.org/2000/svg\" height=\"24px\"viewBox=\"0 0 24 24\"\n",
              "     width=\"24px\">\n",
              "    <g>\n",
              "        <path d=\"M19 3H5c-1.1 0-2 .9-2 2v14c0 1.1.9 2 2 2h14c1.1 0 2-.9 2-2V5c0-1.1-.9-2-2-2zM9 17H7v-7h2v7zm4 0h-2V7h2v10zm4 0h-2v-4h2v4z\"/>\n",
              "    </g>\n",
              "</svg>\n",
              "  </button>\n",
              "\n",
              "<style>\n",
              "  .colab-df-quickchart {\n",
              "      --bg-color: #E8F0FE;\n",
              "      --fill-color: #1967D2;\n",
              "      --hover-bg-color: #E2EBFA;\n",
              "      --hover-fill-color: #174EA6;\n",
              "      --disabled-fill-color: #AAA;\n",
              "      --disabled-bg-color: #DDD;\n",
              "  }\n",
              "\n",
              "  [theme=dark] .colab-df-quickchart {\n",
              "      --bg-color: #3B4455;\n",
              "      --fill-color: #D2E3FC;\n",
              "      --hover-bg-color: #434B5C;\n",
              "      --hover-fill-color: #FFFFFF;\n",
              "      --disabled-bg-color: #3B4455;\n",
              "      --disabled-fill-color: #666;\n",
              "  }\n",
              "\n",
              "  .colab-df-quickchart {\n",
              "    background-color: var(--bg-color);\n",
              "    border: none;\n",
              "    border-radius: 50%;\n",
              "    cursor: pointer;\n",
              "    display: none;\n",
              "    fill: var(--fill-color);\n",
              "    height: 32px;\n",
              "    padding: 0;\n",
              "    width: 32px;\n",
              "  }\n",
              "\n",
              "  .colab-df-quickchart:hover {\n",
              "    background-color: var(--hover-bg-color);\n",
              "    box-shadow: 0 1px 2px rgba(60, 64, 67, 0.3), 0 1px 3px 1px rgba(60, 64, 67, 0.15);\n",
              "    fill: var(--button-hover-fill-color);\n",
              "  }\n",
              "\n",
              "  .colab-df-quickchart-complete:disabled,\n",
              "  .colab-df-quickchart-complete:disabled:hover {\n",
              "    background-color: var(--disabled-bg-color);\n",
              "    fill: var(--disabled-fill-color);\n",
              "    box-shadow: none;\n",
              "  }\n",
              "\n",
              "  .colab-df-spinner {\n",
              "    border: 2px solid var(--fill-color);\n",
              "    border-color: transparent;\n",
              "    border-bottom-color: var(--fill-color);\n",
              "    animation:\n",
              "      spin 1s steps(1) infinite;\n",
              "  }\n",
              "\n",
              "  @keyframes spin {\n",
              "    0% {\n",
              "      border-color: transparent;\n",
              "      border-bottom-color: var(--fill-color);\n",
              "      border-left-color: var(--fill-color);\n",
              "    }\n",
              "    20% {\n",
              "      border-color: transparent;\n",
              "      border-left-color: var(--fill-color);\n",
              "      border-top-color: var(--fill-color);\n",
              "    }\n",
              "    30% {\n",
              "      border-color: transparent;\n",
              "      border-left-color: var(--fill-color);\n",
              "      border-top-color: var(--fill-color);\n",
              "      border-right-color: var(--fill-color);\n",
              "    }\n",
              "    40% {\n",
              "      border-color: transparent;\n",
              "      border-right-color: var(--fill-color);\n",
              "      border-top-color: var(--fill-color);\n",
              "    }\n",
              "    60% {\n",
              "      border-color: transparent;\n",
              "      border-right-color: var(--fill-color);\n",
              "    }\n",
              "    80% {\n",
              "      border-color: transparent;\n",
              "      border-right-color: var(--fill-color);\n",
              "      border-bottom-color: var(--fill-color);\n",
              "    }\n",
              "    90% {\n",
              "      border-color: transparent;\n",
              "      border-bottom-color: var(--fill-color);\n",
              "    }\n",
              "  }\n",
              "</style>\n",
              "\n",
              "  <script>\n",
              "    async function quickchart(key) {\n",
              "      const quickchartButtonEl =\n",
              "        document.querySelector('#' + key + ' button');\n",
              "      quickchartButtonEl.disabled = true;  // To prevent multiple clicks.\n",
              "      quickchartButtonEl.classList.add('colab-df-spinner');\n",
              "      try {\n",
              "        const charts = await google.colab.kernel.invokeFunction(\n",
              "            'suggestCharts', [key], {});\n",
              "      } catch (error) {\n",
              "        console.error('Error during call to suggestCharts:', error);\n",
              "      }\n",
              "      quickchartButtonEl.classList.remove('colab-df-spinner');\n",
              "      quickchartButtonEl.classList.add('colab-df-quickchart-complete');\n",
              "    }\n",
              "    (() => {\n",
              "      let quickchartButtonEl =\n",
              "        document.querySelector('#df-8226f5c7-bf03-4f82-85cb-a154cf99f39e button');\n",
              "      quickchartButtonEl.style.display =\n",
              "        google.colab.kernel.accessAllowed ? 'block' : 'none';\n",
              "    })();\n",
              "  </script>\n",
              "</div>\n",
              "\n",
              "    </div>\n",
              "  </div>\n"
            ],
            "application/vnd.google.colaboratory.intrinsic+json": {
              "type": "dataframe",
              "summary": "{\n  \"name\": \"df\",\n  \"rows\": 8,\n  \"fields\": [\n    {\n      \"column\": \"Timestamp\",\n      \"properties\": {\n        \"dtype\": \"number\",\n        \"std\": 623296671.9033005,\n        \"min\": 983318.0,\n        \"max\": 1384411080.0,\n        \"num_unique_values\": 7,\n        \"samples\": [\n          983318.0,\n          1354911570.0,\n          1369661325.0\n        ],\n        \"semantic_type\": \"\",\n        \"description\": \"\"\n      }\n    },\n    {\n      \"column\": \"Open\",\n      \"properties\": {\n        \"dtype\": \"number\",\n        \"std\": 347623.13691257447,\n        \"min\": 3.8,\n        \"max\": 983318.0,\n        \"num_unique_values\": 8,\n        \"samples\": [\n          50.69146717542036,\n          13.1,\n          983318.0\n        ],\n        \"semantic_type\": \"\",\n        \"description\": \"\"\n      }\n    },\n    {\n      \"column\": \"High\",\n      \"properties\": {\n        \"dtype\": \"number\",\n        \"std\": 347622.7769630024,\n        \"min\": 3.8,\n        \"max\": 983317.0,\n        \"num_unique_values\": 8,\n        \"samples\": [\n          50.719301903658746,\n          13.1,\n          983317.0\n        ],\n        \"semantic_type\": \"\",\n        \"description\": \"\"\n      }\n    },\n    {\n      \"column\": \"Low\",\n      \"properties\": {\n        \"dtype\": \"number\",\n        \"std\": 347622.79048163415,\n        \"min\": 3.8,\n        \"max\": 983317.0,\n        \"num_unique_values\": 8,\n        \"samples\": [\n          50.65622494068547,\n          13.1,\n          983317.0\n        ],\n        \"semantic_type\": \"\",\n        \"description\": \"\"\n      }\n    },\n    {\n      \"column\": \"Close\",\n      \"properties\": {\n        \"dtype\": \"number\",\n        \"std\": 347622.784040785,\n        \"min\": 3.8,\n        \"max\": 983317.0,\n        \"num_unique_values\": 8,\n        \"samples\": [\n          50.68758342426704,\n          13.1,\n          983317.0\n        ],\n        \"semantic_type\": \"\",\n        \"description\": \"\"\n      }\n    },\n    {\n      \"column\": \"Volume\",\n      \"properties\": {\n        \"dtype\": \"number\",\n        \"std\": 347505.6661538992,\n        \"min\": 0.0,\n        \"max\": 983317.0,\n        \"num_unique_values\": 6,\n        \"samples\": [\n          983317.0,\n          4.174009539236279,\n          2958.47757418\n        ],\n        \"semantic_type\": \"\",\n        \"description\": \"\"\n      }\n    }\n  ]\n}"
            }
          },
          "metadata": {},
          "execution_count": 4
        }
      ],
      "source": [
        "df.describe()"
      ]
    },
    {
      "cell_type": "code",
      "execution_count": 5,
      "id": "476d95c1-d4a5-4ca6-98be-c8303f1c8080",
      "metadata": {
        "colab": {
          "base_uri": "https://localhost:8080/"
        },
        "id": "476d95c1-d4a5-4ca6-98be-c8303f1c8080",
        "outputId": "f50982da-59b8-4b97-e092-5935e81b7102"
      },
      "outputs": [
        {
          "output_type": "stream",
          "name": "stdout",
          "text": [
            "<class 'pandas.core.frame.DataFrame'>\n",
            "RangeIndex: 983318 entries, 0 to 983317\n",
            "Data columns (total 7 columns):\n",
            " #   Column     Non-Null Count   Dtype  \n",
            "---  ------     --------------   -----  \n",
            " 0   Timestamp  983318 non-null  float64\n",
            " 1   Open       983318 non-null  float64\n",
            " 2   High       983317 non-null  float64\n",
            " 3   Low        983317 non-null  float64\n",
            " 4   Close      983317 non-null  float64\n",
            " 5   Volume     983317 non-null  float64\n",
            " 6   datetime   983197 non-null  object \n",
            "dtypes: float64(6), object(1)\n",
            "memory usage: 52.5+ MB\n"
          ]
        }
      ],
      "source": [
        "df.info()"
      ]
    },
    {
      "cell_type": "markdown",
      "id": "f0855b24",
      "metadata": {
        "id": "f0855b24"
      },
      "source": [
        "## 3. Data Preprocessing\n"
      ]
    },
    {
      "cell_type": "markdown",
      "id": "680fb4b3",
      "metadata": {
        "id": "680fb4b3"
      },
      "source": [
        "### Check and handle missing values.\n"
      ]
    },
    {
      "cell_type": "code",
      "execution_count": 6,
      "id": "cc43c7f3-21a7-4b1d-ac89-43c392eaa0bf",
      "metadata": {
        "colab": {
          "base_uri": "https://localhost:8080/",
          "height": 303
        },
        "id": "cc43c7f3-21a7-4b1d-ac89-43c392eaa0bf",
        "outputId": "3f4c9573-0b6d-4057-8f64-35ce5dea4bc3"
      },
      "outputs": [
        {
          "output_type": "execute_result",
          "data": {
            "text/plain": [
              "Timestamp      0\n",
              "Open           0\n",
              "High           1\n",
              "Low            1\n",
              "Close          1\n",
              "Volume         1\n",
              "datetime     121\n",
              "dtype: int64"
            ],
            "text/html": [
              "<div>\n",
              "<style scoped>\n",
              "    .dataframe tbody tr th:only-of-type {\n",
              "        vertical-align: middle;\n",
              "    }\n",
              "\n",
              "    .dataframe tbody tr th {\n",
              "        vertical-align: top;\n",
              "    }\n",
              "\n",
              "    .dataframe thead th {\n",
              "        text-align: right;\n",
              "    }\n",
              "</style>\n",
              "<table border=\"1\" class=\"dataframe\">\n",
              "  <thead>\n",
              "    <tr style=\"text-align: right;\">\n",
              "      <th></th>\n",
              "      <th>0</th>\n",
              "    </tr>\n",
              "  </thead>\n",
              "  <tbody>\n",
              "    <tr>\n",
              "      <th>Timestamp</th>\n",
              "      <td>0</td>\n",
              "    </tr>\n",
              "    <tr>\n",
              "      <th>Open</th>\n",
              "      <td>0</td>\n",
              "    </tr>\n",
              "    <tr>\n",
              "      <th>High</th>\n",
              "      <td>1</td>\n",
              "    </tr>\n",
              "    <tr>\n",
              "      <th>Low</th>\n",
              "      <td>1</td>\n",
              "    </tr>\n",
              "    <tr>\n",
              "      <th>Close</th>\n",
              "      <td>1</td>\n",
              "    </tr>\n",
              "    <tr>\n",
              "      <th>Volume</th>\n",
              "      <td>1</td>\n",
              "    </tr>\n",
              "    <tr>\n",
              "      <th>datetime</th>\n",
              "      <td>121</td>\n",
              "    </tr>\n",
              "  </tbody>\n",
              "</table>\n",
              "</div><br><label><b>dtype:</b> int64</label>"
            ]
          },
          "metadata": {},
          "execution_count": 6
        }
      ],
      "source": [
        "df.isnull().sum()"
      ]
    },
    {
      "cell_type": "code",
      "execution_count": 7,
      "id": "89af2c28-a66a-428d-b393-e4b409110fe4",
      "metadata": {
        "colab": {
          "base_uri": "https://localhost:8080/",
          "height": 206
        },
        "id": "89af2c28-a66a-428d-b393-e4b409110fe4",
        "outputId": "e1afd09f-f7d3-4c5b-b767-d83d7c25f5f1"
      },
      "outputs": [
        {
          "output_type": "execute_result",
          "data": {
            "text/plain": [
              "           Timestamp   Open   High    Low  Close    Volume datetime\n",
              "443279  1.352009e+09  10.49  10.49  10.49  10.49  0.000000      NaN\n",
              "443280  1.352009e+09  10.49  10.49  10.49  10.49  0.000000      NaN\n",
              "443281  1.352009e+09  10.49  10.49  10.49  10.49  0.000000      NaN\n",
              "443282  1.352009e+09  10.49  10.49  10.49  10.49  0.000000      NaN\n",
              "443283  1.352009e+09  10.49  10.49  10.49  10.49  0.260338      NaN"
            ],
            "text/html": [
              "\n",
              "  <div id=\"df-7d247ff1-69d6-4f9f-90b0-ffc05542502b\" class=\"colab-df-container\">\n",
              "    <div>\n",
              "<style scoped>\n",
              "    .dataframe tbody tr th:only-of-type {\n",
              "        vertical-align: middle;\n",
              "    }\n",
              "\n",
              "    .dataframe tbody tr th {\n",
              "        vertical-align: top;\n",
              "    }\n",
              "\n",
              "    .dataframe thead th {\n",
              "        text-align: right;\n",
              "    }\n",
              "</style>\n",
              "<table border=\"1\" class=\"dataframe\">\n",
              "  <thead>\n",
              "    <tr style=\"text-align: right;\">\n",
              "      <th></th>\n",
              "      <th>Timestamp</th>\n",
              "      <th>Open</th>\n",
              "      <th>High</th>\n",
              "      <th>Low</th>\n",
              "      <th>Close</th>\n",
              "      <th>Volume</th>\n",
              "      <th>datetime</th>\n",
              "    </tr>\n",
              "  </thead>\n",
              "  <tbody>\n",
              "    <tr>\n",
              "      <th>443279</th>\n",
              "      <td>1.352009e+09</td>\n",
              "      <td>10.49</td>\n",
              "      <td>10.49</td>\n",
              "      <td>10.49</td>\n",
              "      <td>10.49</td>\n",
              "      <td>0.000000</td>\n",
              "      <td>NaN</td>\n",
              "    </tr>\n",
              "    <tr>\n",
              "      <th>443280</th>\n",
              "      <td>1.352009e+09</td>\n",
              "      <td>10.49</td>\n",
              "      <td>10.49</td>\n",
              "      <td>10.49</td>\n",
              "      <td>10.49</td>\n",
              "      <td>0.000000</td>\n",
              "      <td>NaN</td>\n",
              "    </tr>\n",
              "    <tr>\n",
              "      <th>443281</th>\n",
              "      <td>1.352009e+09</td>\n",
              "      <td>10.49</td>\n",
              "      <td>10.49</td>\n",
              "      <td>10.49</td>\n",
              "      <td>10.49</td>\n",
              "      <td>0.000000</td>\n",
              "      <td>NaN</td>\n",
              "    </tr>\n",
              "    <tr>\n",
              "      <th>443282</th>\n",
              "      <td>1.352009e+09</td>\n",
              "      <td>10.49</td>\n",
              "      <td>10.49</td>\n",
              "      <td>10.49</td>\n",
              "      <td>10.49</td>\n",
              "      <td>0.000000</td>\n",
              "      <td>NaN</td>\n",
              "    </tr>\n",
              "    <tr>\n",
              "      <th>443283</th>\n",
              "      <td>1.352009e+09</td>\n",
              "      <td>10.49</td>\n",
              "      <td>10.49</td>\n",
              "      <td>10.49</td>\n",
              "      <td>10.49</td>\n",
              "      <td>0.260338</td>\n",
              "      <td>NaN</td>\n",
              "    </tr>\n",
              "  </tbody>\n",
              "</table>\n",
              "</div>\n",
              "    <div class=\"colab-df-buttons\">\n",
              "\n",
              "  <div class=\"colab-df-container\">\n",
              "    <button class=\"colab-df-convert\" onclick=\"convertToInteractive('df-7d247ff1-69d6-4f9f-90b0-ffc05542502b')\"\n",
              "            title=\"Convert this dataframe to an interactive table.\"\n",
              "            style=\"display:none;\">\n",
              "\n",
              "  <svg xmlns=\"http://www.w3.org/2000/svg\" height=\"24px\" viewBox=\"0 -960 960 960\">\n",
              "    <path d=\"M120-120v-720h720v720H120Zm60-500h600v-160H180v160Zm220 220h160v-160H400v160Zm0 220h160v-160H400v160ZM180-400h160v-160H180v160Zm440 0h160v-160H620v160ZM180-180h160v-160H180v160Zm440 0h160v-160H620v160Z\"/>\n",
              "  </svg>\n",
              "    </button>\n",
              "\n",
              "  <style>\n",
              "    .colab-df-container {\n",
              "      display:flex;\n",
              "      gap: 12px;\n",
              "    }\n",
              "\n",
              "    .colab-df-convert {\n",
              "      background-color: #E8F0FE;\n",
              "      border: none;\n",
              "      border-radius: 50%;\n",
              "      cursor: pointer;\n",
              "      display: none;\n",
              "      fill: #1967D2;\n",
              "      height: 32px;\n",
              "      padding: 0 0 0 0;\n",
              "      width: 32px;\n",
              "    }\n",
              "\n",
              "    .colab-df-convert:hover {\n",
              "      background-color: #E2EBFA;\n",
              "      box-shadow: 0px 1px 2px rgba(60, 64, 67, 0.3), 0px 1px 3px 1px rgba(60, 64, 67, 0.15);\n",
              "      fill: #174EA6;\n",
              "    }\n",
              "\n",
              "    .colab-df-buttons div {\n",
              "      margin-bottom: 4px;\n",
              "    }\n",
              "\n",
              "    [theme=dark] .colab-df-convert {\n",
              "      background-color: #3B4455;\n",
              "      fill: #D2E3FC;\n",
              "    }\n",
              "\n",
              "    [theme=dark] .colab-df-convert:hover {\n",
              "      background-color: #434B5C;\n",
              "      box-shadow: 0px 1px 3px 1px rgba(0, 0, 0, 0.15);\n",
              "      filter: drop-shadow(0px 1px 2px rgba(0, 0, 0, 0.3));\n",
              "      fill: #FFFFFF;\n",
              "    }\n",
              "  </style>\n",
              "\n",
              "    <script>\n",
              "      const buttonEl =\n",
              "        document.querySelector('#df-7d247ff1-69d6-4f9f-90b0-ffc05542502b button.colab-df-convert');\n",
              "      buttonEl.style.display =\n",
              "        google.colab.kernel.accessAllowed ? 'block' : 'none';\n",
              "\n",
              "      async function convertToInteractive(key) {\n",
              "        const element = document.querySelector('#df-7d247ff1-69d6-4f9f-90b0-ffc05542502b');\n",
              "        const dataTable =\n",
              "          await google.colab.kernel.invokeFunction('convertToInteractive',\n",
              "                                                    [key], {});\n",
              "        if (!dataTable) return;\n",
              "\n",
              "        const docLinkHtml = 'Like what you see? Visit the ' +\n",
              "          '<a target=\"_blank\" href=https://colab.research.google.com/notebooks/data_table.ipynb>data table notebook</a>'\n",
              "          + ' to learn more about interactive tables.';\n",
              "        element.innerHTML = '';\n",
              "        dataTable['output_type'] = 'display_data';\n",
              "        await google.colab.output.renderOutput(dataTable, element);\n",
              "        const docLink = document.createElement('div');\n",
              "        docLink.innerHTML = docLinkHtml;\n",
              "        element.appendChild(docLink);\n",
              "      }\n",
              "    </script>\n",
              "  </div>\n",
              "\n",
              "\n",
              "<div id=\"df-2316ec64-1d24-4a31-887d-60e178b30143\">\n",
              "  <button class=\"colab-df-quickchart\" onclick=\"quickchart('df-2316ec64-1d24-4a31-887d-60e178b30143')\"\n",
              "            title=\"Suggest charts\"\n",
              "            style=\"display:none;\">\n",
              "\n",
              "<svg xmlns=\"http://www.w3.org/2000/svg\" height=\"24px\"viewBox=\"0 0 24 24\"\n",
              "     width=\"24px\">\n",
              "    <g>\n",
              "        <path d=\"M19 3H5c-1.1 0-2 .9-2 2v14c0 1.1.9 2 2 2h14c1.1 0 2-.9 2-2V5c0-1.1-.9-2-2-2zM9 17H7v-7h2v7zm4 0h-2V7h2v10zm4 0h-2v-4h2v4z\"/>\n",
              "    </g>\n",
              "</svg>\n",
              "  </button>\n",
              "\n",
              "<style>\n",
              "  .colab-df-quickchart {\n",
              "      --bg-color: #E8F0FE;\n",
              "      --fill-color: #1967D2;\n",
              "      --hover-bg-color: #E2EBFA;\n",
              "      --hover-fill-color: #174EA6;\n",
              "      --disabled-fill-color: #AAA;\n",
              "      --disabled-bg-color: #DDD;\n",
              "  }\n",
              "\n",
              "  [theme=dark] .colab-df-quickchart {\n",
              "      --bg-color: #3B4455;\n",
              "      --fill-color: #D2E3FC;\n",
              "      --hover-bg-color: #434B5C;\n",
              "      --hover-fill-color: #FFFFFF;\n",
              "      --disabled-bg-color: #3B4455;\n",
              "      --disabled-fill-color: #666;\n",
              "  }\n",
              "\n",
              "  .colab-df-quickchart {\n",
              "    background-color: var(--bg-color);\n",
              "    border: none;\n",
              "    border-radius: 50%;\n",
              "    cursor: pointer;\n",
              "    display: none;\n",
              "    fill: var(--fill-color);\n",
              "    height: 32px;\n",
              "    padding: 0;\n",
              "    width: 32px;\n",
              "  }\n",
              "\n",
              "  .colab-df-quickchart:hover {\n",
              "    background-color: var(--hover-bg-color);\n",
              "    box-shadow: 0 1px 2px rgba(60, 64, 67, 0.3), 0 1px 3px 1px rgba(60, 64, 67, 0.15);\n",
              "    fill: var(--button-hover-fill-color);\n",
              "  }\n",
              "\n",
              "  .colab-df-quickchart-complete:disabled,\n",
              "  .colab-df-quickchart-complete:disabled:hover {\n",
              "    background-color: var(--disabled-bg-color);\n",
              "    fill: var(--disabled-fill-color);\n",
              "    box-shadow: none;\n",
              "  }\n",
              "\n",
              "  .colab-df-spinner {\n",
              "    border: 2px solid var(--fill-color);\n",
              "    border-color: transparent;\n",
              "    border-bottom-color: var(--fill-color);\n",
              "    animation:\n",
              "      spin 1s steps(1) infinite;\n",
              "  }\n",
              "\n",
              "  @keyframes spin {\n",
              "    0% {\n",
              "      border-color: transparent;\n",
              "      border-bottom-color: var(--fill-color);\n",
              "      border-left-color: var(--fill-color);\n",
              "    }\n",
              "    20% {\n",
              "      border-color: transparent;\n",
              "      border-left-color: var(--fill-color);\n",
              "      border-top-color: var(--fill-color);\n",
              "    }\n",
              "    30% {\n",
              "      border-color: transparent;\n",
              "      border-left-color: var(--fill-color);\n",
              "      border-top-color: var(--fill-color);\n",
              "      border-right-color: var(--fill-color);\n",
              "    }\n",
              "    40% {\n",
              "      border-color: transparent;\n",
              "      border-right-color: var(--fill-color);\n",
              "      border-top-color: var(--fill-color);\n",
              "    }\n",
              "    60% {\n",
              "      border-color: transparent;\n",
              "      border-right-color: var(--fill-color);\n",
              "    }\n",
              "    80% {\n",
              "      border-color: transparent;\n",
              "      border-right-color: var(--fill-color);\n",
              "      border-bottom-color: var(--fill-color);\n",
              "    }\n",
              "    90% {\n",
              "      border-color: transparent;\n",
              "      border-bottom-color: var(--fill-color);\n",
              "    }\n",
              "  }\n",
              "</style>\n",
              "\n",
              "  <script>\n",
              "    async function quickchart(key) {\n",
              "      const quickchartButtonEl =\n",
              "        document.querySelector('#' + key + ' button');\n",
              "      quickchartButtonEl.disabled = true;  // To prevent multiple clicks.\n",
              "      quickchartButtonEl.classList.add('colab-df-spinner');\n",
              "      try {\n",
              "        const charts = await google.colab.kernel.invokeFunction(\n",
              "            'suggestCharts', [key], {});\n",
              "      } catch (error) {\n",
              "        console.error('Error during call to suggestCharts:', error);\n",
              "      }\n",
              "      quickchartButtonEl.classList.remove('colab-df-spinner');\n",
              "      quickchartButtonEl.classList.add('colab-df-quickchart-complete');\n",
              "    }\n",
              "    (() => {\n",
              "      let quickchartButtonEl =\n",
              "        document.querySelector('#df-2316ec64-1d24-4a31-887d-60e178b30143 button');\n",
              "      quickchartButtonEl.style.display =\n",
              "        google.colab.kernel.accessAllowed ? 'block' : 'none';\n",
              "    })();\n",
              "  </script>\n",
              "</div>\n",
              "\n",
              "    </div>\n",
              "  </div>\n"
            ],
            "application/vnd.google.colaboratory.intrinsic+json": {
              "type": "dataframe",
              "repr_error": "0"
            }
          },
          "metadata": {},
          "execution_count": 7
        }
      ],
      "source": [
        "df[df['datetime'].isnull()].head()"
      ]
    },
    {
      "cell_type": "markdown",
      "id": "1486e773",
      "metadata": {
        "id": "1486e773"
      },
      "source": [
        "### Convert UNIX timestamp to readable datetime format"
      ]
    },
    {
      "cell_type": "code",
      "execution_count": 8,
      "id": "d686a980-2533-4ac8-a136-1e34600c993b",
      "metadata": {
        "id": "d686a980-2533-4ac8-a136-1e34600c993b"
      },
      "outputs": [],
      "source": [
        "df['datetime'] = pd.to_datetime(df['Timestamp'], unit='s')"
      ]
    },
    {
      "cell_type": "code",
      "execution_count": 9,
      "id": "6dc61c39-eccb-4ef6-ad9a-49dfe0142ef1",
      "metadata": {
        "colab": {
          "base_uri": "https://localhost:8080/",
          "height": 303
        },
        "id": "6dc61c39-eccb-4ef6-ad9a-49dfe0142ef1",
        "outputId": "75dac189-9241-4e90-bbd6-0ab9e8649634"
      },
      "outputs": [
        {
          "output_type": "execute_result",
          "data": {
            "text/plain": [
              "Timestamp    0\n",
              "Open         0\n",
              "High         1\n",
              "Low          1\n",
              "Close        1\n",
              "Volume       1\n",
              "datetime     0\n",
              "dtype: int64"
            ],
            "text/html": [
              "<div>\n",
              "<style scoped>\n",
              "    .dataframe tbody tr th:only-of-type {\n",
              "        vertical-align: middle;\n",
              "    }\n",
              "\n",
              "    .dataframe tbody tr th {\n",
              "        vertical-align: top;\n",
              "    }\n",
              "\n",
              "    .dataframe thead th {\n",
              "        text-align: right;\n",
              "    }\n",
              "</style>\n",
              "<table border=\"1\" class=\"dataframe\">\n",
              "  <thead>\n",
              "    <tr style=\"text-align: right;\">\n",
              "      <th></th>\n",
              "      <th>0</th>\n",
              "    </tr>\n",
              "  </thead>\n",
              "  <tbody>\n",
              "    <tr>\n",
              "      <th>Timestamp</th>\n",
              "      <td>0</td>\n",
              "    </tr>\n",
              "    <tr>\n",
              "      <th>Open</th>\n",
              "      <td>0</td>\n",
              "    </tr>\n",
              "    <tr>\n",
              "      <th>High</th>\n",
              "      <td>1</td>\n",
              "    </tr>\n",
              "    <tr>\n",
              "      <th>Low</th>\n",
              "      <td>1</td>\n",
              "    </tr>\n",
              "    <tr>\n",
              "      <th>Close</th>\n",
              "      <td>1</td>\n",
              "    </tr>\n",
              "    <tr>\n",
              "      <th>Volume</th>\n",
              "      <td>1</td>\n",
              "    </tr>\n",
              "    <tr>\n",
              "      <th>datetime</th>\n",
              "      <td>0</td>\n",
              "    </tr>\n",
              "  </tbody>\n",
              "</table>\n",
              "</div><br><label><b>dtype:</b> int64</label>"
            ]
          },
          "metadata": {},
          "execution_count": 9
        }
      ],
      "source": [
        "df.isnull().sum()\n"
      ]
    },
    {
      "cell_type": "markdown",
      "id": "bb6a6e7e",
      "metadata": {
        "id": "bb6a6e7e"
      },
      "source": [
        "## 4. Cleaning the Data"
      ]
    },
    {
      "cell_type": "markdown",
      "id": "98b4af31",
      "metadata": {
        "id": "98b4af31"
      },
      "source": [
        "### Remove unnecessary columns like Timestamp which aren’t needed for numeric/statistical calculations."
      ]
    },
    {
      "cell_type": "code",
      "execution_count": 10,
      "id": "a657c8aa-3fd1-40af-aeb6-a045a4bf1040",
      "metadata": {
        "colab": {
          "base_uri": "https://localhost:8080/",
          "height": 300
        },
        "id": "a657c8aa-3fd1-40af-aeb6-a045a4bf1040",
        "outputId": "cd7eb12e-555f-437d-eae2-09db4af4b71a"
      },
      "outputs": [
        {
          "output_type": "execute_result",
          "data": {
            "text/plain": [
              "                Open           High            Low          Close  \\\n",
              "count  983318.000000  983317.000000  983317.000000  983317.000000   \n",
              "mean       50.691467      50.719302      50.656225      50.687583   \n",
              "min         3.800000       3.800000       3.800000       3.800000   \n",
              "25%         6.580000       6.580000       6.580000       6.580000   \n",
              "50%        13.100000      13.100000      13.100000      13.100000   \n",
              "75%        98.150000      98.200000      98.110000      98.150000   \n",
              "max       405.970000     405.970000     405.970000     405.970000   \n",
              "std        61.239729      61.288515      61.173980      61.230122   \n",
              "\n",
              "              Volume                       datetime  \n",
              "count  983317.000000                         983318  \n",
              "mean        4.174010  2012-12-07 20:19:30.000002048  \n",
              "min         0.000000            2012-01-01 10:01:00  \n",
              "25%         0.000000            2012-06-20 03:10:15  \n",
              "50%         0.000000            2012-12-07 20:19:30  \n",
              "75%         0.326740            2013-05-27 13:28:45  \n",
              "max      2958.477574            2013-11-14 06:38:00  \n",
              "std        25.287492                            NaN  "
            ],
            "text/html": [
              "\n",
              "  <div id=\"df-6097e9ce-02ef-4fdb-9011-d3d59cbc0cfd\" class=\"colab-df-container\">\n",
              "    <div>\n",
              "<style scoped>\n",
              "    .dataframe tbody tr th:only-of-type {\n",
              "        vertical-align: middle;\n",
              "    }\n",
              "\n",
              "    .dataframe tbody tr th {\n",
              "        vertical-align: top;\n",
              "    }\n",
              "\n",
              "    .dataframe thead th {\n",
              "        text-align: right;\n",
              "    }\n",
              "</style>\n",
              "<table border=\"1\" class=\"dataframe\">\n",
              "  <thead>\n",
              "    <tr style=\"text-align: right;\">\n",
              "      <th></th>\n",
              "      <th>Open</th>\n",
              "      <th>High</th>\n",
              "      <th>Low</th>\n",
              "      <th>Close</th>\n",
              "      <th>Volume</th>\n",
              "      <th>datetime</th>\n",
              "    </tr>\n",
              "  </thead>\n",
              "  <tbody>\n",
              "    <tr>\n",
              "      <th>count</th>\n",
              "      <td>983318.000000</td>\n",
              "      <td>983317.000000</td>\n",
              "      <td>983317.000000</td>\n",
              "      <td>983317.000000</td>\n",
              "      <td>983317.000000</td>\n",
              "      <td>983318</td>\n",
              "    </tr>\n",
              "    <tr>\n",
              "      <th>mean</th>\n",
              "      <td>50.691467</td>\n",
              "      <td>50.719302</td>\n",
              "      <td>50.656225</td>\n",
              "      <td>50.687583</td>\n",
              "      <td>4.174010</td>\n",
              "      <td>2012-12-07 20:19:30.000002048</td>\n",
              "    </tr>\n",
              "    <tr>\n",
              "      <th>min</th>\n",
              "      <td>3.800000</td>\n",
              "      <td>3.800000</td>\n",
              "      <td>3.800000</td>\n",
              "      <td>3.800000</td>\n",
              "      <td>0.000000</td>\n",
              "      <td>2012-01-01 10:01:00</td>\n",
              "    </tr>\n",
              "    <tr>\n",
              "      <th>25%</th>\n",
              "      <td>6.580000</td>\n",
              "      <td>6.580000</td>\n",
              "      <td>6.580000</td>\n",
              "      <td>6.580000</td>\n",
              "      <td>0.000000</td>\n",
              "      <td>2012-06-20 03:10:15</td>\n",
              "    </tr>\n",
              "    <tr>\n",
              "      <th>50%</th>\n",
              "      <td>13.100000</td>\n",
              "      <td>13.100000</td>\n",
              "      <td>13.100000</td>\n",
              "      <td>13.100000</td>\n",
              "      <td>0.000000</td>\n",
              "      <td>2012-12-07 20:19:30</td>\n",
              "    </tr>\n",
              "    <tr>\n",
              "      <th>75%</th>\n",
              "      <td>98.150000</td>\n",
              "      <td>98.200000</td>\n",
              "      <td>98.110000</td>\n",
              "      <td>98.150000</td>\n",
              "      <td>0.326740</td>\n",
              "      <td>2013-05-27 13:28:45</td>\n",
              "    </tr>\n",
              "    <tr>\n",
              "      <th>max</th>\n",
              "      <td>405.970000</td>\n",
              "      <td>405.970000</td>\n",
              "      <td>405.970000</td>\n",
              "      <td>405.970000</td>\n",
              "      <td>2958.477574</td>\n",
              "      <td>2013-11-14 06:38:00</td>\n",
              "    </tr>\n",
              "    <tr>\n",
              "      <th>std</th>\n",
              "      <td>61.239729</td>\n",
              "      <td>61.288515</td>\n",
              "      <td>61.173980</td>\n",
              "      <td>61.230122</td>\n",
              "      <td>25.287492</td>\n",
              "      <td>NaN</td>\n",
              "    </tr>\n",
              "  </tbody>\n",
              "</table>\n",
              "</div>\n",
              "    <div class=\"colab-df-buttons\">\n",
              "\n",
              "  <div class=\"colab-df-container\">\n",
              "    <button class=\"colab-df-convert\" onclick=\"convertToInteractive('df-6097e9ce-02ef-4fdb-9011-d3d59cbc0cfd')\"\n",
              "            title=\"Convert this dataframe to an interactive table.\"\n",
              "            style=\"display:none;\">\n",
              "\n",
              "  <svg xmlns=\"http://www.w3.org/2000/svg\" height=\"24px\" viewBox=\"0 -960 960 960\">\n",
              "    <path d=\"M120-120v-720h720v720H120Zm60-500h600v-160H180v160Zm220 220h160v-160H400v160Zm0 220h160v-160H400v160ZM180-400h160v-160H180v160Zm440 0h160v-160H620v160ZM180-180h160v-160H180v160Zm440 0h160v-160H620v160Z\"/>\n",
              "  </svg>\n",
              "    </button>\n",
              "\n",
              "  <style>\n",
              "    .colab-df-container {\n",
              "      display:flex;\n",
              "      gap: 12px;\n",
              "    }\n",
              "\n",
              "    .colab-df-convert {\n",
              "      background-color: #E8F0FE;\n",
              "      border: none;\n",
              "      border-radius: 50%;\n",
              "      cursor: pointer;\n",
              "      display: none;\n",
              "      fill: #1967D2;\n",
              "      height: 32px;\n",
              "      padding: 0 0 0 0;\n",
              "      width: 32px;\n",
              "    }\n",
              "\n",
              "    .colab-df-convert:hover {\n",
              "      background-color: #E2EBFA;\n",
              "      box-shadow: 0px 1px 2px rgba(60, 64, 67, 0.3), 0px 1px 3px 1px rgba(60, 64, 67, 0.15);\n",
              "      fill: #174EA6;\n",
              "    }\n",
              "\n",
              "    .colab-df-buttons div {\n",
              "      margin-bottom: 4px;\n",
              "    }\n",
              "\n",
              "    [theme=dark] .colab-df-convert {\n",
              "      background-color: #3B4455;\n",
              "      fill: #D2E3FC;\n",
              "    }\n",
              "\n",
              "    [theme=dark] .colab-df-convert:hover {\n",
              "      background-color: #434B5C;\n",
              "      box-shadow: 0px 1px 3px 1px rgba(0, 0, 0, 0.15);\n",
              "      filter: drop-shadow(0px 1px 2px rgba(0, 0, 0, 0.3));\n",
              "      fill: #FFFFFF;\n",
              "    }\n",
              "  </style>\n",
              "\n",
              "    <script>\n",
              "      const buttonEl =\n",
              "        document.querySelector('#df-6097e9ce-02ef-4fdb-9011-d3d59cbc0cfd button.colab-df-convert');\n",
              "      buttonEl.style.display =\n",
              "        google.colab.kernel.accessAllowed ? 'block' : 'none';\n",
              "\n",
              "      async function convertToInteractive(key) {\n",
              "        const element = document.querySelector('#df-6097e9ce-02ef-4fdb-9011-d3d59cbc0cfd');\n",
              "        const dataTable =\n",
              "          await google.colab.kernel.invokeFunction('convertToInteractive',\n",
              "                                                    [key], {});\n",
              "        if (!dataTable) return;\n",
              "\n",
              "        const docLinkHtml = 'Like what you see? Visit the ' +\n",
              "          '<a target=\"_blank\" href=https://colab.research.google.com/notebooks/data_table.ipynb>data table notebook</a>'\n",
              "          + ' to learn more about interactive tables.';\n",
              "        element.innerHTML = '';\n",
              "        dataTable['output_type'] = 'display_data';\n",
              "        await google.colab.output.renderOutput(dataTable, element);\n",
              "        const docLink = document.createElement('div');\n",
              "        docLink.innerHTML = docLinkHtml;\n",
              "        element.appendChild(docLink);\n",
              "      }\n",
              "    </script>\n",
              "  </div>\n",
              "\n",
              "\n",
              "<div id=\"df-78a227c6-785f-40bf-b205-36f733ef2e3e\">\n",
              "  <button class=\"colab-df-quickchart\" onclick=\"quickchart('df-78a227c6-785f-40bf-b205-36f733ef2e3e')\"\n",
              "            title=\"Suggest charts\"\n",
              "            style=\"display:none;\">\n",
              "\n",
              "<svg xmlns=\"http://www.w3.org/2000/svg\" height=\"24px\"viewBox=\"0 0 24 24\"\n",
              "     width=\"24px\">\n",
              "    <g>\n",
              "        <path d=\"M19 3H5c-1.1 0-2 .9-2 2v14c0 1.1.9 2 2 2h14c1.1 0 2-.9 2-2V5c0-1.1-.9-2-2-2zM9 17H7v-7h2v7zm4 0h-2V7h2v10zm4 0h-2v-4h2v4z\"/>\n",
              "    </g>\n",
              "</svg>\n",
              "  </button>\n",
              "\n",
              "<style>\n",
              "  .colab-df-quickchart {\n",
              "      --bg-color: #E8F0FE;\n",
              "      --fill-color: #1967D2;\n",
              "      --hover-bg-color: #E2EBFA;\n",
              "      --hover-fill-color: #174EA6;\n",
              "      --disabled-fill-color: #AAA;\n",
              "      --disabled-bg-color: #DDD;\n",
              "  }\n",
              "\n",
              "  [theme=dark] .colab-df-quickchart {\n",
              "      --bg-color: #3B4455;\n",
              "      --fill-color: #D2E3FC;\n",
              "      --hover-bg-color: #434B5C;\n",
              "      --hover-fill-color: #FFFFFF;\n",
              "      --disabled-bg-color: #3B4455;\n",
              "      --disabled-fill-color: #666;\n",
              "  }\n",
              "\n",
              "  .colab-df-quickchart {\n",
              "    background-color: var(--bg-color);\n",
              "    border: none;\n",
              "    border-radius: 50%;\n",
              "    cursor: pointer;\n",
              "    display: none;\n",
              "    fill: var(--fill-color);\n",
              "    height: 32px;\n",
              "    padding: 0;\n",
              "    width: 32px;\n",
              "  }\n",
              "\n",
              "  .colab-df-quickchart:hover {\n",
              "    background-color: var(--hover-bg-color);\n",
              "    box-shadow: 0 1px 2px rgba(60, 64, 67, 0.3), 0 1px 3px 1px rgba(60, 64, 67, 0.15);\n",
              "    fill: var(--button-hover-fill-color);\n",
              "  }\n",
              "\n",
              "  .colab-df-quickchart-complete:disabled,\n",
              "  .colab-df-quickchart-complete:disabled:hover {\n",
              "    background-color: var(--disabled-bg-color);\n",
              "    fill: var(--disabled-fill-color);\n",
              "    box-shadow: none;\n",
              "  }\n",
              "\n",
              "  .colab-df-spinner {\n",
              "    border: 2px solid var(--fill-color);\n",
              "    border-color: transparent;\n",
              "    border-bottom-color: var(--fill-color);\n",
              "    animation:\n",
              "      spin 1s steps(1) infinite;\n",
              "  }\n",
              "\n",
              "  @keyframes spin {\n",
              "    0% {\n",
              "      border-color: transparent;\n",
              "      border-bottom-color: var(--fill-color);\n",
              "      border-left-color: var(--fill-color);\n",
              "    }\n",
              "    20% {\n",
              "      border-color: transparent;\n",
              "      border-left-color: var(--fill-color);\n",
              "      border-top-color: var(--fill-color);\n",
              "    }\n",
              "    30% {\n",
              "      border-color: transparent;\n",
              "      border-left-color: var(--fill-color);\n",
              "      border-top-color: var(--fill-color);\n",
              "      border-right-color: var(--fill-color);\n",
              "    }\n",
              "    40% {\n",
              "      border-color: transparent;\n",
              "      border-right-color: var(--fill-color);\n",
              "      border-top-color: var(--fill-color);\n",
              "    }\n",
              "    60% {\n",
              "      border-color: transparent;\n",
              "      border-right-color: var(--fill-color);\n",
              "    }\n",
              "    80% {\n",
              "      border-color: transparent;\n",
              "      border-right-color: var(--fill-color);\n",
              "      border-bottom-color: var(--fill-color);\n",
              "    }\n",
              "    90% {\n",
              "      border-color: transparent;\n",
              "      border-bottom-color: var(--fill-color);\n",
              "    }\n",
              "  }\n",
              "</style>\n",
              "\n",
              "  <script>\n",
              "    async function quickchart(key) {\n",
              "      const quickchartButtonEl =\n",
              "        document.querySelector('#' + key + ' button');\n",
              "      quickchartButtonEl.disabled = true;  // To prevent multiple clicks.\n",
              "      quickchartButtonEl.classList.add('colab-df-spinner');\n",
              "      try {\n",
              "        const charts = await google.colab.kernel.invokeFunction(\n",
              "            'suggestCharts', [key], {});\n",
              "      } catch (error) {\n",
              "        console.error('Error during call to suggestCharts:', error);\n",
              "      }\n",
              "      quickchartButtonEl.classList.remove('colab-df-spinner');\n",
              "      quickchartButtonEl.classList.add('colab-df-quickchart-complete');\n",
              "    }\n",
              "    (() => {\n",
              "      let quickchartButtonEl =\n",
              "        document.querySelector('#df-78a227c6-785f-40bf-b205-36f733ef2e3e button');\n",
              "      quickchartButtonEl.style.display =\n",
              "        google.colab.kernel.accessAllowed ? 'block' : 'none';\n",
              "    })();\n",
              "  </script>\n",
              "</div>\n",
              "\n",
              "    </div>\n",
              "  </div>\n"
            ],
            "application/vnd.google.colaboratory.intrinsic+json": {
              "type": "dataframe",
              "summary": "{\n  \"name\": \"df_numeric\",\n  \"rows\": 8,\n  \"fields\": [\n    {\n      \"column\": \"Open\",\n      \"properties\": {\n        \"dtype\": \"number\",\n        \"std\": 347623.13691257447,\n        \"min\": 3.8,\n        \"max\": 983318.0,\n        \"num_unique_values\": 8,\n        \"samples\": [\n          50.69146717542036,\n          98.15,\n          983318.0\n        ],\n        \"semantic_type\": \"\",\n        \"description\": \"\"\n      }\n    },\n    {\n      \"column\": \"High\",\n      \"properties\": {\n        \"dtype\": \"number\",\n        \"std\": 347622.7769630024,\n        \"min\": 3.8,\n        \"max\": 983317.0,\n        \"num_unique_values\": 8,\n        \"samples\": [\n          50.719301903658746,\n          98.2,\n          983317.0\n        ],\n        \"semantic_type\": \"\",\n        \"description\": \"\"\n      }\n    },\n    {\n      \"column\": \"Low\",\n      \"properties\": {\n        \"dtype\": \"number\",\n        \"std\": 347622.79048163415,\n        \"min\": 3.8,\n        \"max\": 983317.0,\n        \"num_unique_values\": 8,\n        \"samples\": [\n          50.65622494068547,\n          98.11,\n          983317.0\n        ],\n        \"semantic_type\": \"\",\n        \"description\": \"\"\n      }\n    },\n    {\n      \"column\": \"Close\",\n      \"properties\": {\n        \"dtype\": \"number\",\n        \"std\": 347622.784040785,\n        \"min\": 3.8,\n        \"max\": 983317.0,\n        \"num_unique_values\": 8,\n        \"samples\": [\n          50.68758342426704,\n          98.15,\n          983317.0\n        ],\n        \"semantic_type\": \"\",\n        \"description\": \"\"\n      }\n    },\n    {\n      \"column\": \"Volume\",\n      \"properties\": {\n        \"dtype\": \"number\",\n        \"std\": 347505.6661538992,\n        \"min\": 0.0,\n        \"max\": 983317.0,\n        \"num_unique_values\": 6,\n        \"samples\": [\n          983317.0,\n          4.174009539236279,\n          25.28749211375175\n        ],\n        \"semantic_type\": \"\",\n        \"description\": \"\"\n      }\n    },\n    {\n      \"column\": \"datetime\",\n      \"properties\": {\n        \"dtype\": \"date\",\n        \"min\": \"1970-01-01 00:00:00.000983318\",\n        \"max\": \"2013-11-14 06:38:00\",\n        \"num_unique_values\": 7,\n        \"samples\": [\n          \"983318\",\n          \"2012-12-07 20:19:30.000002048\",\n          \"2013-05-27 13:28:45\"\n        ],\n        \"semantic_type\": \"\",\n        \"description\": \"\"\n      }\n    }\n  ]\n}"
            }
          },
          "metadata": {},
          "execution_count": 10
        }
      ],
      "source": [
        "# Droping the 'Timestamp' column as it's not needed for numeric analysis\n",
        "df_numeric = df.drop(columns=['Timestamp'])\n",
        "df_numeric.describe()\n"
      ]
    },
    {
      "cell_type": "code",
      "execution_count": 11,
      "id": "cc405adc",
      "metadata": {
        "id": "cc405adc"
      },
      "outputs": [],
      "source": [
        "df.drop(columns=['Timestamp'], inplace=True)"
      ]
    },
    {
      "cell_type": "markdown",
      "id": "dff07461",
      "metadata": {
        "id": "dff07461"
      },
      "source": [
        "## 5. Statistical Analysis"
      ]
    },
    {
      "cell_type": "code",
      "execution_count": 12,
      "id": "2ed42ca5",
      "metadata": {
        "colab": {
          "base_uri": "https://localhost:8080/",
          "height": 300
        },
        "id": "2ed42ca5",
        "outputId": "4800ea9e-2293-4310-93aa-dc7ab6d230a2"
      },
      "outputs": [
        {
          "output_type": "execute_result",
          "data": {
            "text/plain": [
              "                Open           High            Low          Close  \\\n",
              "count  983318.000000  983317.000000  983317.000000  983317.000000   \n",
              "mean       50.691467      50.719302      50.656225      50.687583   \n",
              "min         3.800000       3.800000       3.800000       3.800000   \n",
              "25%         6.580000       6.580000       6.580000       6.580000   \n",
              "50%        13.100000      13.100000      13.100000      13.100000   \n",
              "75%        98.150000      98.200000      98.110000      98.150000   \n",
              "max       405.970000     405.970000     405.970000     405.970000   \n",
              "std        61.239729      61.288515      61.173980      61.230122   \n",
              "\n",
              "              Volume                       datetime  \n",
              "count  983317.000000                         983318  \n",
              "mean        4.174010  2012-12-07 20:19:30.000002048  \n",
              "min         0.000000            2012-01-01 10:01:00  \n",
              "25%         0.000000            2012-06-20 03:10:15  \n",
              "50%         0.000000            2012-12-07 20:19:30  \n",
              "75%         0.326740            2013-05-27 13:28:45  \n",
              "max      2958.477574            2013-11-14 06:38:00  \n",
              "std        25.287492                            NaN  "
            ],
            "text/html": [
              "\n",
              "  <div id=\"df-2f72380d-6661-4662-a576-fd84d0de6527\" class=\"colab-df-container\">\n",
              "    <div>\n",
              "<style scoped>\n",
              "    .dataframe tbody tr th:only-of-type {\n",
              "        vertical-align: middle;\n",
              "    }\n",
              "\n",
              "    .dataframe tbody tr th {\n",
              "        vertical-align: top;\n",
              "    }\n",
              "\n",
              "    .dataframe thead th {\n",
              "        text-align: right;\n",
              "    }\n",
              "</style>\n",
              "<table border=\"1\" class=\"dataframe\">\n",
              "  <thead>\n",
              "    <tr style=\"text-align: right;\">\n",
              "      <th></th>\n",
              "      <th>Open</th>\n",
              "      <th>High</th>\n",
              "      <th>Low</th>\n",
              "      <th>Close</th>\n",
              "      <th>Volume</th>\n",
              "      <th>datetime</th>\n",
              "    </tr>\n",
              "  </thead>\n",
              "  <tbody>\n",
              "    <tr>\n",
              "      <th>count</th>\n",
              "      <td>983318.000000</td>\n",
              "      <td>983317.000000</td>\n",
              "      <td>983317.000000</td>\n",
              "      <td>983317.000000</td>\n",
              "      <td>983317.000000</td>\n",
              "      <td>983318</td>\n",
              "    </tr>\n",
              "    <tr>\n",
              "      <th>mean</th>\n",
              "      <td>50.691467</td>\n",
              "      <td>50.719302</td>\n",
              "      <td>50.656225</td>\n",
              "      <td>50.687583</td>\n",
              "      <td>4.174010</td>\n",
              "      <td>2012-12-07 20:19:30.000002048</td>\n",
              "    </tr>\n",
              "    <tr>\n",
              "      <th>min</th>\n",
              "      <td>3.800000</td>\n",
              "      <td>3.800000</td>\n",
              "      <td>3.800000</td>\n",
              "      <td>3.800000</td>\n",
              "      <td>0.000000</td>\n",
              "      <td>2012-01-01 10:01:00</td>\n",
              "    </tr>\n",
              "    <tr>\n",
              "      <th>25%</th>\n",
              "      <td>6.580000</td>\n",
              "      <td>6.580000</td>\n",
              "      <td>6.580000</td>\n",
              "      <td>6.580000</td>\n",
              "      <td>0.000000</td>\n",
              "      <td>2012-06-20 03:10:15</td>\n",
              "    </tr>\n",
              "    <tr>\n",
              "      <th>50%</th>\n",
              "      <td>13.100000</td>\n",
              "      <td>13.100000</td>\n",
              "      <td>13.100000</td>\n",
              "      <td>13.100000</td>\n",
              "      <td>0.000000</td>\n",
              "      <td>2012-12-07 20:19:30</td>\n",
              "    </tr>\n",
              "    <tr>\n",
              "      <th>75%</th>\n",
              "      <td>98.150000</td>\n",
              "      <td>98.200000</td>\n",
              "      <td>98.110000</td>\n",
              "      <td>98.150000</td>\n",
              "      <td>0.326740</td>\n",
              "      <td>2013-05-27 13:28:45</td>\n",
              "    </tr>\n",
              "    <tr>\n",
              "      <th>max</th>\n",
              "      <td>405.970000</td>\n",
              "      <td>405.970000</td>\n",
              "      <td>405.970000</td>\n",
              "      <td>405.970000</td>\n",
              "      <td>2958.477574</td>\n",
              "      <td>2013-11-14 06:38:00</td>\n",
              "    </tr>\n",
              "    <tr>\n",
              "      <th>std</th>\n",
              "      <td>61.239729</td>\n",
              "      <td>61.288515</td>\n",
              "      <td>61.173980</td>\n",
              "      <td>61.230122</td>\n",
              "      <td>25.287492</td>\n",
              "      <td>NaN</td>\n",
              "    </tr>\n",
              "  </tbody>\n",
              "</table>\n",
              "</div>\n",
              "    <div class=\"colab-df-buttons\">\n",
              "\n",
              "  <div class=\"colab-df-container\">\n",
              "    <button class=\"colab-df-convert\" onclick=\"convertToInteractive('df-2f72380d-6661-4662-a576-fd84d0de6527')\"\n",
              "            title=\"Convert this dataframe to an interactive table.\"\n",
              "            style=\"display:none;\">\n",
              "\n",
              "  <svg xmlns=\"http://www.w3.org/2000/svg\" height=\"24px\" viewBox=\"0 -960 960 960\">\n",
              "    <path d=\"M120-120v-720h720v720H120Zm60-500h600v-160H180v160Zm220 220h160v-160H400v160Zm0 220h160v-160H400v160ZM180-400h160v-160H180v160Zm440 0h160v-160H620v160ZM180-180h160v-160H180v160Zm440 0h160v-160H620v160Z\"/>\n",
              "  </svg>\n",
              "    </button>\n",
              "\n",
              "  <style>\n",
              "    .colab-df-container {\n",
              "      display:flex;\n",
              "      gap: 12px;\n",
              "    }\n",
              "\n",
              "    .colab-df-convert {\n",
              "      background-color: #E8F0FE;\n",
              "      border: none;\n",
              "      border-radius: 50%;\n",
              "      cursor: pointer;\n",
              "      display: none;\n",
              "      fill: #1967D2;\n",
              "      height: 32px;\n",
              "      padding: 0 0 0 0;\n",
              "      width: 32px;\n",
              "    }\n",
              "\n",
              "    .colab-df-convert:hover {\n",
              "      background-color: #E2EBFA;\n",
              "      box-shadow: 0px 1px 2px rgba(60, 64, 67, 0.3), 0px 1px 3px 1px rgba(60, 64, 67, 0.15);\n",
              "      fill: #174EA6;\n",
              "    }\n",
              "\n",
              "    .colab-df-buttons div {\n",
              "      margin-bottom: 4px;\n",
              "    }\n",
              "\n",
              "    [theme=dark] .colab-df-convert {\n",
              "      background-color: #3B4455;\n",
              "      fill: #D2E3FC;\n",
              "    }\n",
              "\n",
              "    [theme=dark] .colab-df-convert:hover {\n",
              "      background-color: #434B5C;\n",
              "      box-shadow: 0px 1px 3px 1px rgba(0, 0, 0, 0.15);\n",
              "      filter: drop-shadow(0px 1px 2px rgba(0, 0, 0, 0.3));\n",
              "      fill: #FFFFFF;\n",
              "    }\n",
              "  </style>\n",
              "\n",
              "    <script>\n",
              "      const buttonEl =\n",
              "        document.querySelector('#df-2f72380d-6661-4662-a576-fd84d0de6527 button.colab-df-convert');\n",
              "      buttonEl.style.display =\n",
              "        google.colab.kernel.accessAllowed ? 'block' : 'none';\n",
              "\n",
              "      async function convertToInteractive(key) {\n",
              "        const element = document.querySelector('#df-2f72380d-6661-4662-a576-fd84d0de6527');\n",
              "        const dataTable =\n",
              "          await google.colab.kernel.invokeFunction('convertToInteractive',\n",
              "                                                    [key], {});\n",
              "        if (!dataTable) return;\n",
              "\n",
              "        const docLinkHtml = 'Like what you see? Visit the ' +\n",
              "          '<a target=\"_blank\" href=https://colab.research.google.com/notebooks/data_table.ipynb>data table notebook</a>'\n",
              "          + ' to learn more about interactive tables.';\n",
              "        element.innerHTML = '';\n",
              "        dataTable['output_type'] = 'display_data';\n",
              "        await google.colab.output.renderOutput(dataTable, element);\n",
              "        const docLink = document.createElement('div');\n",
              "        docLink.innerHTML = docLinkHtml;\n",
              "        element.appendChild(docLink);\n",
              "      }\n",
              "    </script>\n",
              "  </div>\n",
              "\n",
              "\n",
              "<div id=\"df-afdc93ea-30d7-43eb-a593-f7e546d6427d\">\n",
              "  <button class=\"colab-df-quickchart\" onclick=\"quickchart('df-afdc93ea-30d7-43eb-a593-f7e546d6427d')\"\n",
              "            title=\"Suggest charts\"\n",
              "            style=\"display:none;\">\n",
              "\n",
              "<svg xmlns=\"http://www.w3.org/2000/svg\" height=\"24px\"viewBox=\"0 0 24 24\"\n",
              "     width=\"24px\">\n",
              "    <g>\n",
              "        <path d=\"M19 3H5c-1.1 0-2 .9-2 2v14c0 1.1.9 2 2 2h14c1.1 0 2-.9 2-2V5c0-1.1-.9-2-2-2zM9 17H7v-7h2v7zm4 0h-2V7h2v10zm4 0h-2v-4h2v4z\"/>\n",
              "    </g>\n",
              "</svg>\n",
              "  </button>\n",
              "\n",
              "<style>\n",
              "  .colab-df-quickchart {\n",
              "      --bg-color: #E8F0FE;\n",
              "      --fill-color: #1967D2;\n",
              "      --hover-bg-color: #E2EBFA;\n",
              "      --hover-fill-color: #174EA6;\n",
              "      --disabled-fill-color: #AAA;\n",
              "      --disabled-bg-color: #DDD;\n",
              "  }\n",
              "\n",
              "  [theme=dark] .colab-df-quickchart {\n",
              "      --bg-color: #3B4455;\n",
              "      --fill-color: #D2E3FC;\n",
              "      --hover-bg-color: #434B5C;\n",
              "      --hover-fill-color: #FFFFFF;\n",
              "      --disabled-bg-color: #3B4455;\n",
              "      --disabled-fill-color: #666;\n",
              "  }\n",
              "\n",
              "  .colab-df-quickchart {\n",
              "    background-color: var(--bg-color);\n",
              "    border: none;\n",
              "    border-radius: 50%;\n",
              "    cursor: pointer;\n",
              "    display: none;\n",
              "    fill: var(--fill-color);\n",
              "    height: 32px;\n",
              "    padding: 0;\n",
              "    width: 32px;\n",
              "  }\n",
              "\n",
              "  .colab-df-quickchart:hover {\n",
              "    background-color: var(--hover-bg-color);\n",
              "    box-shadow: 0 1px 2px rgba(60, 64, 67, 0.3), 0 1px 3px 1px rgba(60, 64, 67, 0.15);\n",
              "    fill: var(--button-hover-fill-color);\n",
              "  }\n",
              "\n",
              "  .colab-df-quickchart-complete:disabled,\n",
              "  .colab-df-quickchart-complete:disabled:hover {\n",
              "    background-color: var(--disabled-bg-color);\n",
              "    fill: var(--disabled-fill-color);\n",
              "    box-shadow: none;\n",
              "  }\n",
              "\n",
              "  .colab-df-spinner {\n",
              "    border: 2px solid var(--fill-color);\n",
              "    border-color: transparent;\n",
              "    border-bottom-color: var(--fill-color);\n",
              "    animation:\n",
              "      spin 1s steps(1) infinite;\n",
              "  }\n",
              "\n",
              "  @keyframes spin {\n",
              "    0% {\n",
              "      border-color: transparent;\n",
              "      border-bottom-color: var(--fill-color);\n",
              "      border-left-color: var(--fill-color);\n",
              "    }\n",
              "    20% {\n",
              "      border-color: transparent;\n",
              "      border-left-color: var(--fill-color);\n",
              "      border-top-color: var(--fill-color);\n",
              "    }\n",
              "    30% {\n",
              "      border-color: transparent;\n",
              "      border-left-color: var(--fill-color);\n",
              "      border-top-color: var(--fill-color);\n",
              "      border-right-color: var(--fill-color);\n",
              "    }\n",
              "    40% {\n",
              "      border-color: transparent;\n",
              "      border-right-color: var(--fill-color);\n",
              "      border-top-color: var(--fill-color);\n",
              "    }\n",
              "    60% {\n",
              "      border-color: transparent;\n",
              "      border-right-color: var(--fill-color);\n",
              "    }\n",
              "    80% {\n",
              "      border-color: transparent;\n",
              "      border-right-color: var(--fill-color);\n",
              "      border-bottom-color: var(--fill-color);\n",
              "    }\n",
              "    90% {\n",
              "      border-color: transparent;\n",
              "      border-bottom-color: var(--fill-color);\n",
              "    }\n",
              "  }\n",
              "</style>\n",
              "\n",
              "  <script>\n",
              "    async function quickchart(key) {\n",
              "      const quickchartButtonEl =\n",
              "        document.querySelector('#' + key + ' button');\n",
              "      quickchartButtonEl.disabled = true;  // To prevent multiple clicks.\n",
              "      quickchartButtonEl.classList.add('colab-df-spinner');\n",
              "      try {\n",
              "        const charts = await google.colab.kernel.invokeFunction(\n",
              "            'suggestCharts', [key], {});\n",
              "      } catch (error) {\n",
              "        console.error('Error during call to suggestCharts:', error);\n",
              "      }\n",
              "      quickchartButtonEl.classList.remove('colab-df-spinner');\n",
              "      quickchartButtonEl.classList.add('colab-df-quickchart-complete');\n",
              "    }\n",
              "    (() => {\n",
              "      let quickchartButtonEl =\n",
              "        document.querySelector('#df-afdc93ea-30d7-43eb-a593-f7e546d6427d button');\n",
              "      quickchartButtonEl.style.display =\n",
              "        google.colab.kernel.accessAllowed ? 'block' : 'none';\n",
              "    })();\n",
              "  </script>\n",
              "</div>\n",
              "\n",
              "    </div>\n",
              "  </div>\n"
            ],
            "application/vnd.google.colaboratory.intrinsic+json": {
              "type": "dataframe",
              "summary": "{\n  \"name\": \"df_numeric\",\n  \"rows\": 8,\n  \"fields\": [\n    {\n      \"column\": \"Open\",\n      \"properties\": {\n        \"dtype\": \"number\",\n        \"std\": 347623.13691257447,\n        \"min\": 3.8,\n        \"max\": 983318.0,\n        \"num_unique_values\": 8,\n        \"samples\": [\n          50.69146717542036,\n          98.15,\n          983318.0\n        ],\n        \"semantic_type\": \"\",\n        \"description\": \"\"\n      }\n    },\n    {\n      \"column\": \"High\",\n      \"properties\": {\n        \"dtype\": \"number\",\n        \"std\": 347622.7769630024,\n        \"min\": 3.8,\n        \"max\": 983317.0,\n        \"num_unique_values\": 8,\n        \"samples\": [\n          50.719301903658746,\n          98.2,\n          983317.0\n        ],\n        \"semantic_type\": \"\",\n        \"description\": \"\"\n      }\n    },\n    {\n      \"column\": \"Low\",\n      \"properties\": {\n        \"dtype\": \"number\",\n        \"std\": 347622.79048163415,\n        \"min\": 3.8,\n        \"max\": 983317.0,\n        \"num_unique_values\": 8,\n        \"samples\": [\n          50.65622494068547,\n          98.11,\n          983317.0\n        ],\n        \"semantic_type\": \"\",\n        \"description\": \"\"\n      }\n    },\n    {\n      \"column\": \"Close\",\n      \"properties\": {\n        \"dtype\": \"number\",\n        \"std\": 347622.784040785,\n        \"min\": 3.8,\n        \"max\": 983317.0,\n        \"num_unique_values\": 8,\n        \"samples\": [\n          50.68758342426704,\n          98.15,\n          983317.0\n        ],\n        \"semantic_type\": \"\",\n        \"description\": \"\"\n      }\n    },\n    {\n      \"column\": \"Volume\",\n      \"properties\": {\n        \"dtype\": \"number\",\n        \"std\": 347505.6661538992,\n        \"min\": 0.0,\n        \"max\": 983317.0,\n        \"num_unique_values\": 6,\n        \"samples\": [\n          983317.0,\n          4.174009539236279,\n          25.28749211375175\n        ],\n        \"semantic_type\": \"\",\n        \"description\": \"\"\n      }\n    },\n    {\n      \"column\": \"datetime\",\n      \"properties\": {\n        \"dtype\": \"date\",\n        \"min\": \"1970-01-01 00:00:00.000983318\",\n        \"max\": \"2013-11-14 06:38:00\",\n        \"num_unique_values\": 7,\n        \"samples\": [\n          \"983318\",\n          \"2012-12-07 20:19:30.000002048\",\n          \"2013-05-27 13:28:45\"\n        ],\n        \"semantic_type\": \"\",\n        \"description\": \"\"\n      }\n    }\n  ]\n}"
            }
          },
          "metadata": {},
          "execution_count": 12
        }
      ],
      "source": [
        "df_numeric.describe()"
      ]
    },
    {
      "cell_type": "markdown",
      "id": "35edd051",
      "metadata": {
        "id": "35edd051"
      },
      "source": [
        "## Discriptive Statistics"
      ]
    },
    {
      "cell_type": "markdown",
      "id": "971c0733",
      "metadata": {
        "id": "971c0733"
      },
      "source": [
        "\n",
        "### i. Measure of Central Tendency"
      ]
    },
    {
      "cell_type": "code",
      "execution_count": 13,
      "id": "061d5233-b8a5-43c9-b728-372d3163182f",
      "metadata": {
        "colab": {
          "base_uri": "https://localhost:8080/"
        },
        "id": "061d5233-b8a5-43c9-b728-372d3163182f",
        "outputId": "54a490aa-1df6-4b96-a513-230a8610ff2d"
      },
      "outputs": [
        {
          "output_type": "stream",
          "name": "stdout",
          "text": [
            "----------------------------------------\n",
            "Mean of each column:\n",
            "\n",
            "Open      50.691467\n",
            "High      50.719302\n",
            "Low       50.656225\n",
            "Close     50.687583\n",
            "Volume     4.174010\n",
            "dtype: float64\n",
            "----------------------------------------\n",
            "Median of each column:\n",
            "\n",
            "Open      13.1\n",
            "High      13.1\n",
            "Low       13.1\n",
            "Close     13.1\n",
            "Volume     0.0\n",
            "dtype: float64\n",
            "----------------------------------------\n",
            "Mode of each column:\n",
            "\n",
            "Open      5.0\n",
            "High      5.0\n",
            "Low       5.0\n",
            "Close     5.0\n",
            "Volume    0.0\n",
            "Name: 0, dtype: float64\n"
          ]
        }
      ],
      "source": [
        "df_numeric = df.drop(columns=['datetime']) # Timestamp removed\n",
        "\n",
        "mean = df_numeric.mean()\n",
        "mode = df_numeric.mode().iloc[0]\n",
        "median = df_numeric.median()\n",
        "\n",
        "print(\"-\" * 40)\n",
        "print(\"Mean of each column:\\n\")\n",
        "print(mean)\n",
        "\n",
        "print(\"-\" * 40)\n",
        "print(\"Median of each column:\\n\")\n",
        "print(median)\n",
        "\n",
        "print(\"-\" * 40)\n",
        "print(\"Mode of each column:\\n\")\n",
        "print(mode)"
      ]
    },
    {
      "cell_type": "markdown",
      "id": "b7239f62",
      "metadata": {
        "id": "b7239f62"
      },
      "source": [
        "### ii. Measure of Dispersion"
      ]
    },
    {
      "cell_type": "code",
      "execution_count": 14,
      "id": "f38ae60d-712d-481d-bb45-9c90ebfae33c",
      "metadata": {
        "colab": {
          "base_uri": "https://localhost:8080/"
        },
        "id": "f38ae60d-712d-481d-bb45-9c90ebfae33c",
        "outputId": "5f703316-183a-4c52-f164-104a0e65ed8c"
      },
      "outputs": [
        {
          "output_type": "stream",
          "name": "stdout",
          "text": [
            "--------------------------------------------------\n",
            "Range:\n",
            " Open       402.170000\n",
            "High       402.170000\n",
            "Low        402.170000\n",
            "Close      402.170000\n",
            "Volume    2958.477574\n",
            "dtype: float64 \n",
            "\n",
            "--------------------------------------------------\n",
            "Variance:\n",
            " Open      3750.304438\n",
            "High      3756.282019\n",
            "Low       3742.255859\n",
            "Close     3749.127856\n",
            "Volume     639.457257\n",
            "dtype: float64 \n",
            "\n",
            "--------------------------------------------------\n",
            "Standard Deviation:\n",
            " Open      61.239729\n",
            "High      61.288515\n",
            "Low       61.173980\n",
            "Close     61.230122\n",
            "Volume    25.287492\n",
            "dtype: float64 \n",
            "\n",
            "--------------------------------------------------\n",
            "Mean Absolute Deviation (MAD):\n",
            " Open      51.145330\n",
            "High      51.180842\n",
            "Low       51.100328\n",
            "Close     51.140347\n",
            "Volume     6.920475\n",
            "dtype: float64 \n",
            "\n",
            "--------------------------------------------------\n",
            "Quartiles:\n",
            "Q1:\n",
            " Open      6.58\n",
            "High      6.58\n",
            "Low       6.58\n",
            "Close     6.58\n",
            "Volume    0.00\n",
            "Name: 0.25, dtype: float64 \n",
            "Q2 (Median):\n",
            " Open      13.1\n",
            "High      13.1\n",
            "Low       13.1\n",
            "Close     13.1\n",
            "Volume     0.0\n",
            "Name: 0.5, dtype: float64 \n",
            "Q3:\n",
            " Open      98.15000\n",
            "High      98.20000\n",
            "Low       98.11000\n",
            "Close     98.15000\n",
            "Volume     0.32674\n",
            "Name: 0.75, dtype: float64 \n",
            "\n",
            "--------------------------------------------------\n",
            "Interquartile Range (IQR):\n",
            " Open      91.57000\n",
            "High      91.62000\n",
            "Low       91.53000\n",
            "Close     91.57000\n",
            "Volume     0.32674\n",
            "dtype: float64\n"
          ]
        }
      ],
      "source": [
        "data_range = df_numeric.max() - df_numeric.min() # Range\n",
        "variance = df_numeric.var() # variance\n",
        "std_dev = df_numeric.std() # Standard Deviation\n",
        "mad = df_numeric.apply(lambda x: np.mean(np.abs(x - x.mean()))) # Mean Absolute Deviation\n",
        "\n",
        "# Quartiles\n",
        "q1 = df_numeric.quantile(0.25)\n",
        "q2 = df_numeric.quantile(0.50)  # Median\n",
        "q3 = df_numeric.quantile(0.75)\n",
        "\n",
        "# Interquartile Range (IQR)\n",
        "iqr = q3 - q1\n",
        "\n",
        "print(\"-\" * 50)\n",
        "print(\"Range:\\n\", data_range, \"\\n\")\n",
        "print(\"-\" * 50)\n",
        "print(\"Variance:\\n\", variance, \"\\n\")\n",
        "print(\"-\" * 50)\n",
        "print(\"Standard Deviation:\\n\", std_dev, \"\\n\")\n",
        "print(\"-\" * 50)\n",
        "print(\"Mean Absolute Deviation (MAD):\\n\", mad, \"\\n\")\n",
        "print(\"-\" * 50)\n",
        "print(\"Quartiles:\\nQ1:\\n\", q1, \"\\nQ2 (Median):\\n\", q2, \"\\nQ3:\\n\", q3, \"\\n\")\n",
        "print(\"-\" * 50)\n",
        "print(\"Interquartile Range (IQR):\\n\", iqr)\n"
      ]
    },
    {
      "cell_type": "markdown",
      "id": "4d3a2e6d",
      "metadata": {
        "id": "4d3a2e6d"
      },
      "source": [
        "### iii. Measure of Position"
      ]
    },
    {
      "cell_type": "code",
      "execution_count": 15,
      "id": "1370ac48",
      "metadata": {
        "colab": {
          "base_uri": "https://localhost:8080/"
        },
        "id": "1370ac48",
        "outputId": "33fa06c4-b812-40d5-f3ab-99e006d3c741"
      },
      "outputs": [
        {
          "output_type": "stream",
          "name": "stdout",
          "text": [
            "--------------------------------------------------\n",
            "Skewness:\n",
            " Open       1.657898\n",
            "High       1.659332\n",
            "Low        1.655462\n",
            "Close      1.657333\n",
            "Volume    22.158939\n",
            "dtype: float64 \n",
            "\n",
            "--------------------------------------------------\n",
            "Kurtosis:\n",
            " Open         3.617801\n",
            "High         3.626815\n",
            "Low          3.602503\n",
            "Close        3.614482\n",
            "Volume    1017.529404\n",
            "dtype: float64\n"
          ]
        }
      ],
      "source": [
        "skewness = df_numeric.skew()\n",
        "\n",
        "kurtosis = df_numeric.kurtosis()\n",
        "\n",
        "print(\"-\" * 50)\n",
        "print(\"Skewness:\\n\", skewness, \"\\n\")\n",
        "print(\"-\" * 50)\n",
        "print(\"Kurtosis:\\n\", kurtosis)"
      ]
    },
    {
      "cell_type": "markdown",
      "id": "2dcce332",
      "metadata": {
        "id": "2dcce332"
      },
      "source": [
        "## 2. Inferential Statistics"
      ]
    },
    {
      "cell_type": "markdown",
      "id": "2ab3b787",
      "metadata": {
        "id": "2ab3b787"
      },
      "source": [
        "### Central Limit Theorem (CLT)"
      ]
    },
    {
      "cell_type": "code",
      "execution_count": 16,
      "id": "2059fa2b",
      "metadata": {
        "colab": {
          "base_uri": "https://localhost:8080/",
          "height": 472
        },
        "id": "2059fa2b",
        "outputId": "90e7902a-3cee-4ee2-f200-572ccb2276db"
      },
      "outputs": [
        {
          "output_type": "display_data",
          "data": {
            "text/plain": [
              "<Figure size 640x480 with 1 Axes>"
            ],
            "image/png": "[encoded data removed]"
          },
          "metadata": {}
        }
      ],
      "source": [
        "# Simulate CLT: Take 1000 samples of size 30 and calculate means\n",
        "sample_means = [df['Close'].sample(30).mean() for _ in range(1000)]\n",
        "\n",
        "# Plot histogram of sample means\n",
        "plt.hist(sample_means, bins=30, color='skyblue', edgecolor='black')\n",
        "plt.title(\"Central Limit Theorem: Distribution of Sample Means\")\n",
        "plt.xlabel(\"Sample Mean\")\n",
        "plt.ylabel(\"Frequency\")\n",
        "plt.show()\n"
      ]
    },
    {
      "cell_type": "markdown",
      "id": "6bdbb8c7",
      "metadata": {
        "id": "6bdbb8c7"
      },
      "source": [
        "### Confidence Interval"
      ]
    },
    {
      "cell_type": "code",
      "execution_count": 17,
      "id": "b1d6cf79",
      "metadata": {
        "colab": {
          "base_uri": "https://localhost:8080/"
        },
        "id": "b1d6cf79",
        "outputId": "1ad83864-a93b-4a08-b1ae-b2047962efe8"
      },
      "outputs": [
        {
          "output_type": "stream",
          "name": "stdout",
          "text": [
            "Confidence Interval for Mean of Close Price: (50.57, 50.81)\n"
          ]
        }
      ],
      "source": [
        "confidence_level = 0.95  # 95% confidence\n",
        "mean_close = df['Close'].mean()\n",
        "std_error = df['Close'].sem()  # Standard error of the mean\n",
        "\n",
        "# Calculate Confidence Interval using t-distribution\n",
        "ci_lower = mean_close - stats.t.ppf(1 - (1 - confidence_level) / 2, df['Close'].shape[0] - 1) * std_error\n",
        "ci_upper = mean_close + stats.t.ppf(1 - (1 - confidence_level) / 2, df['Close'].shape[0] - 1) * std_error\n",
        "\n",
        "# Display the Confidence Interval\n",
        "print(f\"Confidence Interval for Mean of Close Price: ({ci_lower:.2f}, {ci_upper:.2f})\")\n"
      ]
    },
    {
      "cell_type": "markdown",
      "id": "d5b492a8",
      "metadata": {
        "id": "d5b492a8"
      },
      "source": [
        "### Hypothesis Testing"
      ]
    },
    {
      "cell_type": "code",
      "source": [
        "# Hypothesis Testing (T-test) for Close Price\n",
        "population_mean = 10000  # Example population mean\n",
        "\n",
        "# Perform T-Test\n",
        "t_stat, p_value = stats.ttest_1samp(df['Close'], population_mean)\n",
        "\n",
        "# Display the result of the T-test\n",
        "print(f\"T-Statistic: {t_stat:.2f}, P-Value: {p_value:.4f}\")\n",
        "\n",
        "# Check if p-value is less than 0.05 (significance level)\n",
        "if p_value < 0.05:\n",
        "    print(\"Reject the null hypothesis: The mean of Close price is significantly different from 10,000.\")\n",
        "else:\n",
        "    print(\"Fail to reject the null hypothesis: No significant difference from 10,000.\")\n"
      ],
      "metadata": {
        "id": "RfIHKcjzgglm",
        "outputId": "ea52b2f1-906c-429c-bdf3-eef441fe48a0",
        "colab": {
          "base_uri": "https://localhost:8080/"
        }
      },
      "id": "RfIHKcjzgglm",
      "execution_count": 27,
      "outputs": [
        {
          "output_type": "stream",
          "name": "stdout",
          "text": [
            "T-Statistic: nan, P-Value: nan\n",
            "Fail to reject the null hypothesis: No significant difference from 10,000.\n"
          ]
        }
      ]
    },
    {
      "cell_type": "markdown",
      "id": "84668a57",
      "metadata": {
        "id": "84668a57"
      },
      "source": [
        "### Z-score"
      ]
    },
    {
      "cell_type": "code",
      "execution_count": 18,
      "id": "4b5e1858",
      "metadata": {
        "colab": {
          "base_uri": "https://localhost:8080/"
        },
        "id": "4b5e1858",
        "outputId": "4cea88c6-624d-4c22-cd4d-923c4c3a4625"
      },
      "outputs": [
        {
          "output_type": "stream",
          "name": "stdout",
          "text": [
            "Z-scores for Close price:\n",
            " 0   -0.753021\n",
            "1   -0.753021\n",
            "2   -0.753021\n",
            "3   -0.753021\n",
            "4   -0.753021\n",
            "Name: Close, dtype: float64\n"
          ]
        }
      ],
      "source": [
        "# Calculate Z-Score for 'Close' price values\n",
        "z_scores = (df['Close'] - df['Close'].mean()) / df['Close'].std()\n",
        "\n",
        "# Display Z-scores for the first few entries\n",
        "print(\"Z-scores for Close price:\\n\", z_scores.head())\n"
      ]
    },
    {
      "cell_type": "markdown",
      "id": "0ca2540f",
      "metadata": {
        "id": "0ca2540f"
      },
      "source": [
        "## Visualization"
      ]
    },
    {
      "cell_type": "markdown",
      "id": "cd1941d9",
      "metadata": {
        "id": "cd1941d9"
      },
      "source": [
        "### Time Series Plot"
      ]
    },
    {
      "cell_type": "code",
      "execution_count": 19,
      "id": "af562b99",
      "metadata": {
        "colab": {
          "base_uri": "https://localhost:8080/",
          "height": 601
        },
        "id": "af562b99",
        "outputId": "7f2a048a-d60b-4ff6-aaa8-fb83d814339e"
      },
      "outputs": [
        {
          "output_type": "display_data",
          "data": {
            "text/plain": [
              "<Figure size 1200x600 with 1 Axes>"
            ],
            "image/png": "[encoded data removed]"
          },
          "metadata": {}
        }
      ],
      "source": [
        "# Time Series Plot of Close price\n",
        "plt.figure(figsize=(12, 6))\n",
        "plt.plot(df['datetime'], df['Close'], label=\"Close Price\", color='blue')\n",
        "plt.title(\"Bitcoin Close Price Over Time\")\n",
        "plt.xlabel(\"Date\")\n",
        "plt.ylabel(\"Close Price (USD)\")\n",
        "plt.xticks(rotation=45)\n",
        "plt.legend()\n",
        "plt.show()\n"
      ]
    },
    {
      "cell_type": "markdown",
      "id": "f719f931",
      "metadata": {
        "id": "f719f931"
      },
      "source": [
        "### Boxplot"
      ]
    },
    {
      "cell_type": "code",
      "execution_count": 20,
      "id": "205b1e1c",
      "metadata": {
        "colab": {
          "base_uri": "https://localhost:8080/",
          "height": 564
        },
        "id": "205b1e1c",
        "outputId": "cc61b954-8b44-4ccb-b4c9-e93821ebb5af"
      },
      "outputs": [
        {
          "output_type": "display_data",
          "data": {
            "text/plain": [
              "<Figure size 800x600 with 1 Axes>"
            ],
            "image/png": "[encoded data removed]"
          },
          "metadata": {}
        }
      ],
      "source": [
        "# Boxplot for Close price\n",
        "plt.figure(figsize=(8, 6))\n",
        "sns.boxplot(x=df['Close'])\n",
        "plt.title(\"Boxplot of Bitcoin Close Price\")\n",
        "plt.xlabel(\"Close Price (USD)\")\n",
        "plt.show()\n"
      ]
    },
    {
      "cell_type": "markdown",
      "id": "00e0382d",
      "metadata": {
        "id": "00e0382d"
      },
      "source": [
        "### Histogram"
      ]
    },
    {
      "cell_type": "code",
      "execution_count": 21,
      "id": "8922f2bc",
      "metadata": {
        "colab": {
          "base_uri": "https://localhost:8080/",
          "height": 564
        },
        "id": "8922f2bc",
        "outputId": "6f0e0d66-5303-41c4-f8fa-9a2fe6a2a48e"
      },
      "outputs": [
        {
          "output_type": "display_data",
          "data": {
            "text/plain": [
              "<Figure size 1000x600 with 1 Axes>"
            ],
            "image/png": "[encoded data removed]"
          },
          "metadata": {}
        }
      ],
      "source": [
        "# Histogram for Close price distribution\n",
        "plt.figure(figsize=(10, 6))\n",
        "df['Close'].hist(bins=30, edgecolor='black', color='lightblue')\n",
        "plt.title(\"Histogram of Bitcoin Close Price\")\n",
        "plt.xlabel(\"Close Price (USD)\")\n",
        "plt.ylabel(\"Frequency\")\n",
        "plt.show()\n"
      ]
    },
    {
      "cell_type": "markdown",
      "id": "1438b95b",
      "metadata": {
        "id": "1438b95b"
      },
      "source": [
        "### Density Plot"
      ]
    },
    {
      "cell_type": "code",
      "execution_count": 22,
      "id": "880fa588",
      "metadata": {
        "colab": {
          "base_uri": "https://localhost:8080/",
          "height": 564
        },
        "id": "880fa588",
        "outputId": "56250767-c883-4878-8519-457d6cabffcb"
      },
      "outputs": [
        {
          "output_type": "display_data",
          "data": {
            "text/plain": [
              "<Figure size 1000x600 with 1 Axes>"
            ],
            "image/png": "[encoded data removed]"
          },
          "metadata": {}
        }
      ],
      "source": [
        "# Density plot for Close price\n",
        "plt.figure(figsize=(10, 6))\n",
        "sns.kdeplot(df['Close'], color='purple', fill=True)\n",
        "plt.title(\"Density Plot of Bitcoin Close Price\")\n",
        "plt.xlabel(\"Close Price (USD)\")\n",
        "plt.ylabel(\"Density\")\n",
        "plt.show()\n"
      ]
    },
    {
      "cell_type": "markdown",
      "id": "c0cd0fd1",
      "metadata": {
        "id": "c0cd0fd1"
      },
      "source": [
        "### Correlation Heatmap"
      ]
    },
    {
      "cell_type": "code",
      "execution_count": 23,
      "id": "a8fc0c19",
      "metadata": {
        "colab": {
          "base_uri": "https://localhost:8080/",
          "height": 545
        },
        "id": "a8fc0c19",
        "outputId": "f90d0617-2ffb-4de0-eeff-3bceb4dacc33"
      },
      "outputs": [
        {
          "output_type": "display_data",
          "data": {
            "text/plain": [
              "<Figure size 1000x600 with 2 Axes>"
            ],
            "image/png": "[encoded data removed]"
          },
          "metadata": {}
        }
      ],
      "source": [
        "# Correlation heatmap for the dataset\n",
        "plt.figure(figsize=(10, 6))\n",
        "sns.heatmap(df_numeric.corr(), annot=True, cmap='coolwarm', fmt='.2f')\n",
        "plt.title(\"Correlation Heatmap\")\n",
        "plt.show()\n"
      ]
    },
    {
      "cell_type": "markdown",
      "id": "468bd820",
      "metadata": {
        "id": "468bd820"
      },
      "source": [
        "### Scatterplot"
      ]
    },
    {
      "cell_type": "code",
      "execution_count": 24,
      "id": "b2d1ed11",
      "metadata": {
        "colab": {
          "base_uri": "https://localhost:8080/",
          "height": 564
        },
        "id": "b2d1ed11",
        "outputId": "c4557fa9-1bb8-4ac2-d70f-d664a1a3d2c8"
      },
      "outputs": [
        {
          "output_type": "display_data",
          "data": {
            "text/plain": [
              "<Figure size 800x600 with 1 Axes>"
            ],
            "image/png": "[encoded data removed]"
          },
          "metadata": {}
        }
      ],
      "source": [
        "# Scatterplot: Open vs Close price\n",
        "plt.figure(figsize=(8, 6))\n",
        "sns.scatterplot(x='Open', y='Close', data=df_numeric)\n",
        "plt.title(\"Scatterplot: Open vs Close Price\")\n",
        "plt.xlabel(\"Open Price (USD)\")\n",
        "plt.ylabel(\"Close Price (USD)\")\n",
        "plt.show()\n"
      ]
    },
    {
      "cell_type": "markdown",
      "id": "43c659fd",
      "metadata": {
        "id": "43c659fd"
      },
      "source": [
        "## Time-based Analysis"
      ]
    },
    {
      "cell_type": "markdown",
      "id": "1cdc6cd4",
      "metadata": {
        "id": "1cdc6cd4"
      },
      "source": [
        "### Resampling for Time-based Analysis"
      ]
    },
    {
      "cell_type": "code",
      "execution_count": 25,
      "id": "0ba98eb6",
      "metadata": {
        "colab": {
          "base_uri": "https://localhost:8080/",
          "height": 615
        },
        "id": "0ba98eb6",
        "outputId": "b9fcafc9-05b4-4076-fc9e-0217697ed655"
      },
      "outputs": [
        {
          "output_type": "stream",
          "name": "stderr",
          "text": [
            "<ipython-input-25-be51d2002a41>:2: FutureWarning: 'M' is deprecated and will be removed in a future version, please use 'ME' instead.\n",
            "  df_resampled_monthly = df.set_index('datetime').resample('M')['Close'].mean()\n"
          ]
        },
        {
          "output_type": "display_data",
          "data": {
            "text/plain": [
              "<Figure size 1200x600 with 1 Axes>"
            ],
            "image/png": "[encoded data removed]"
          },
          "metadata": {}
        }
      ],
      "source": [
        "# Resampling the dataset to monthly frequency and calculating mean of Close price\n",
        "df_resampled_monthly = df.set_index('datetime').resample('M')['Close'].mean()\n",
        "\n",
        "# Plotting resampled Close price\n",
        "plt.figure(figsize=(12, 6))\n",
        "df_resampled_monthly.plot()\n",
        "plt.title(\"Monthly Average of Bitcoin Close Price\")\n",
        "plt.xlabel(\"Date\")\n",
        "plt.ylabel(\"Average Close Price (USD)\")\n",
        "plt.show()\n"
      ]
    },
    {
      "cell_type": "markdown",
      "id": "26096be8",
      "metadata": {
        "id": "26096be8"
      },
      "source": [
        "### Moving Average"
      ]
    },
    {
      "cell_type": "code",
      "execution_count": 26,
      "id": "90631c7f",
      "metadata": {
        "colab": {
          "base_uri": "https://localhost:8080/",
          "height": 601
        },
        "id": "90631c7f",
        "outputId": "733e704a-77ec-4f6a-8143-0c1bb2d988c6"
      },
      "outputs": [
        {
          "output_type": "display_data",
          "data": {
            "text/plain": [
              "<Figure size 1200x600 with 1 Axes>"
            ],
            "image/png": "[encoded data removed]"
          },
          "metadata": {}
        }
      ],
      "source": [
        "# Calculate moving average with a window size of 30 days\n",
        "df['Moving_Avg_30'] = df['Close'].rolling(window=30).mean()\n",
        "\n",
        "# Plotting Close price and moving average\n",
        "plt.figure(figsize=(12, 6))\n",
        "plt.plot(df['datetime'], df['Close'], label=\"Close Price\", color='blue')\n",
        "plt.plot(df['datetime'], df['Moving_Avg_30'], label=\"30-Day Moving Average\", color='orange')\n",
        "plt.title(\"Bitcoin Close Price & 30-Day Moving Average\")\n",
        "plt.xlabel(\"Date\")\n",
        "plt.ylabel(\"Price (USD)\")\n",
        "plt.legend()\n",
        "plt.xticks(rotation=45)\n",
        "plt.show()"
      ]
    }
  ],
  "metadata": {
    "kernelspec": {
      "display_name": "Python 3",
      "language": "python",
      "name": "python3"
    },
    "language_info": {
      "codemirror_mode": {
        "name": "ipython",
        "version": 3
      },
      "file_extension": ".py",
      "mimetype": "text/x-python",
      "name": "python",
      "nbconvert_exporter": "python",
      "pygments_lexer": "ipython3",
      "version": "3.12.0"
    },
    "colab": {
      "provenance": []
    }
  },
  "nbformat": 4,
  "nbformat_minor": 5
}